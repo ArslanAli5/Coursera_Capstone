{
  "nbformat": 4,
  "nbformat_minor": 0,
  "metadata": {
    "colab": {
      "name": "Final_Capstone.ipynb",
      "provenance": [],
      "collapsed_sections": [],
      "authorship_tag": "ABX9TyPw2XaBh7rXHXWTfEqvLn8N",
      "include_colab_link": true
    },
    "kernelspec": {
      "name": "python3",
      "display_name": "Python 3"
    }
  },
  "cells": [
    {
      "cell_type": "markdown",
      "metadata": {
        "id": "view-in-github",
        "colab_type": "text"
      },
      "source": [
        "<a href=\"https://colab.research.google.com/github/ArslanAli5/Coursera_Capstone/blob/master/Final_Capstone.ipynb\" target=\"_parent\"><img src=\"https://colab.research.google.com/assets/colab-badge.svg\" alt=\"Open In Colab\"/></a>"
      ]
    },
    {
      "cell_type": "markdown",
      "metadata": {
        "id": "qroT8kvo-r5S",
        "colab_type": "text"
      },
      "source": [
        "# London Borough Cluster"
      ]
    },
    {
      "cell_type": "code",
      "metadata": {
        "id": "u090XirT-qmv",
        "colab_type": "code",
        "colab": {}
      },
      "source": [
        "import requests # library to handle requests\n",
        "import pandas as pd # library for data analsysis\n",
        "import numpy as np # library to handle data in a vectorized manner\n",
        "import random # library for random number generation\n",
        "\n",
        "!pip3 install -c conda-forge geopy --yes \n",
        "from geopy.geocoders import Nominatim # module to convert an address into latitude and longitude values\n",
        "\n",
        "# libraries for displaying images\n",
        "from IPython.display import Image \n",
        "from IPython.core.display import HTML \n",
        "    \n",
        "# tranforming json file into a pandas dataframe library\n",
        "from pandas.io.json import json_normalize\n",
        "\n",
        "!pip3 install -c conda-forge folium=0.5.0 --yes\n",
        "import folium # plotting library\n",
        "\n",
        "print('Folium installed')\n",
        "print('Libraries imported.')"
      ],
      "execution_count": 0,
      "outputs": []
    },
    {
      "cell_type": "markdown",
      "metadata": {
        "id": "E4hpQ1Lo-jym",
        "colab_type": "text"
      },
      "source": [
        "## MY Foursquare API "
      ]
    },
    {
      "cell_type": "code",
      "metadata": {
        "id": "KumqJMlPpFlT",
        "colab_type": "code",
        "colab": {}
      },
      "source": [
        "# @hidden_cell\n",
        "CLIENT_ID = '5I5NZJB4E5YXG0P0C2FCI5IB3UDDNAMDVCZVCDMWKHGEUG4X' # your Foursquare ID\n",
        "CLIENT_SECRET = '0YCOB4FJXZZ024LSWXJP1DNMTYCRT4X5D2B3PT0KSYGGNADD' # your Foursquare Secret\n",
        "VERSION = '20180604'\n",
        "LIMIT = 30"
      ],
      "execution_count": 0,
      "outputs": []
    },
    {
      "cell_type": "code",
      "metadata": {
        "id": "85TK--YMpXeD",
        "colab_type": "code",
        "outputId": "aea57cf6-0d2c-49c9-fead-ae6d2b672b86",
        "colab": {
          "resources": {
            "http://localhost:8080/nbextensions/google.colab/files.js": {
              "data": "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",
              "ok": true,
              "headers": [
                [
                  "content-type",
                  "application/javascript"
                ]
              ],
              "status": 200,
              "status_text": ""
            }
          },
          "base_uri": "https://localhost:8080/",
          "height": 91
        }
      },
      "source": [
        "from google.colab import files\n",
        "\n",
        "uploaded = files.upload()\n",
        "\n",
        "for fn in uploaded.keys():\n",
        "  print('User uploaded file \"{name}\" with length {length} bytes'.format(\n",
        "      name=fn, length=len(uploaded[fn])))"
      ],
      "execution_count": 4,
      "outputs": [
        {
          "output_type": "display_data",
          "data": {
            "text/html": [
              "\n",
              "     <input type=\"file\" id=\"files-dd7392c1-8663-4f71-9e11-a0b89b3bfb0c\" name=\"files[]\" multiple disabled />\n",
              "     <output id=\"result-dd7392c1-8663-4f71-9e11-a0b89b3bfb0c\">\n",
              "      Upload widget is only available when the cell has been executed in the\n",
              "      current browser session. Please rerun this cell to enable.\n",
              "      </output>\n",
              "      <script src=\"/nbextensions/google.colab/files.js\"></script> "
            ],
            "text/plain": [
              "<IPython.core.display.HTML object>"
            ]
          },
          "metadata": {
            "tags": []
          }
        },
        {
          "output_type": "stream",
          "text": [
            "Saving Income_Report.csv to Income_Report.csv\n",
            "User uploaded file \"Income_Report.csv\" with length 1804 bytes\n"
          ],
          "name": "stdout"
        }
      ]
    },
    {
      "cell_type": "code",
      "metadata": {
        "id": "Q3hizI0TpqOz",
        "colab_type": "code",
        "colab": {}
      },
      "source": [
        "import io\n",
        "df2 = pd.read_csv(io.BytesIO(uploaded['Income_Report.csv']))"
      ],
      "execution_count": 0,
      "outputs": []
    },
    {
      "cell_type": "code",
      "metadata": {
        "id": "1A0lDh9fp1gh",
        "colab_type": "code",
        "colab": {
          "base_uri": "https://localhost:8080/",
          "height": 229
        },
        "outputId": "b7ff837a-8a6f-4700-cabe-60c391f49ce9"
      },
      "source": [
        "df2= df2.drop(0)\n",
        "df2 =df2.reset_index(drop=True)\n",
        "df2.head()\n"
      ],
      "execution_count": 376,
      "outputs": [
        {
          "output_type": "execute_result",
          "data": {
            "text/html": [
              "<div>\n",
              "<style scoped>\n",
              "    .dataframe tbody tr th:only-of-type {\n",
              "        vertical-align: middle;\n",
              "    }\n",
              "\n",
              "    .dataframe tbody tr th {\n",
              "        vertical-align: top;\n",
              "    }\n",
              "\n",
              "    .dataframe thead th {\n",
              "        text-align: right;\n",
              "    }\n",
              "</style>\n",
              "<table border=\"1\" class=\"dataframe\">\n",
              "  <thead>\n",
              "    <tr style=\"text-align: right;\">\n",
              "      <th></th>\n",
              "      <th>Borough</th>\n",
              "      <th>% with Household Income less than £15,000 (2009)</th>\n",
              "      <th>Median Weekly Household Income (2009)</th>\n",
              "      <th>Median 2 Bedroom Weekly Rent (Oct 2010)</th>\n",
              "      <th>Median House Price (2009)</th>\n",
              "      <th>% Home Ownership (2009)</th>\n",
              "      <th>Earnings to House Price Ratio (2009)</th>\n",
              "    </tr>\n",
              "  </thead>\n",
              "  <tbody>\n",
              "    <tr>\n",
              "      <th>0</th>\n",
              "      <td>Barking and Dagenham</td>\n",
              "      <td>18.5</td>\n",
              "      <td>£528</td>\n",
              "      <td>£184</td>\n",
              "      <td>£160,000</td>\n",
              "      <td>50</td>\n",
              "      <td>6.1</td>\n",
              "    </tr>\n",
              "    <tr>\n",
              "      <th>1</th>\n",
              "      <td>Barnet</td>\n",
              "      <td>10.9</td>\n",
              "      <td>£686</td>\n",
              "      <td>£242</td>\n",
              "      <td>£290,000</td>\n",
              "      <td>63</td>\n",
              "      <td>9.1</td>\n",
              "    </tr>\n",
              "    <tr>\n",
              "      <th>2</th>\n",
              "      <td>Bexley</td>\n",
              "      <td>12.4</td>\n",
              "      <td>£647</td>\n",
              "      <td>£173</td>\n",
              "      <td>£196,000</td>\n",
              "      <td>79</td>\n",
              "      <td>7.0</td>\n",
              "    </tr>\n",
              "    <tr>\n",
              "      <th>3</th>\n",
              "      <td>Brent</td>\n",
              "      <td>15.0</td>\n",
              "      <td>£590</td>\n",
              "      <td>£233</td>\n",
              "      <td>£275,000</td>\n",
              "      <td>51</td>\n",
              "      <td>9.7</td>\n",
              "    </tr>\n",
              "    <tr>\n",
              "      <th>4</th>\n",
              "      <td>Bromley</td>\n",
              "      <td>9.8</td>\n",
              "      <td>£718</td>\n",
              "      <td>£196</td>\n",
              "      <td>£249,000</td>\n",
              "      <td>75</td>\n",
              "      <td>8.8</td>\n",
              "    </tr>\n",
              "  </tbody>\n",
              "</table>\n",
              "</div>"
            ],
            "text/plain": [
              "                Borough  ...  Earnings to House Price Ratio (2009)\n",
              "0  Barking and Dagenham  ...                                   6.1\n",
              "1                Barnet  ...                                   9.1\n",
              "2                Bexley  ...                                   7.0\n",
              "3                 Brent  ...                                   9.7\n",
              "4               Bromley  ...                                   8.8\n",
              "\n",
              "[5 rows x 7 columns]"
            ]
          },
          "metadata": {
            "tags": []
          },
          "execution_count": 376
        }
      ]
    },
    {
      "cell_type": "markdown",
      "metadata": {
        "id": "TmC26Mj3CtRW",
        "colab_type": "text"
      },
      "source": [
        "## Data Cleaning or Wrangling"
      ]
    },
    {
      "cell_type": "markdown",
      "metadata": {
        "id": "hTdc8hDsCduX",
        "colab_type": "text"
      },
      "source": [
        "Getting the each column names"
      ]
    },
    {
      "cell_type": "code",
      "metadata": {
        "id": "msbi-EJFLsJD",
        "colab_type": "code",
        "colab": {
          "base_uri": "https://localhost:8080/",
          "height": 101
        },
        "outputId": "8495815b-a90e-4c4b-b497-70a3470df106"
      },
      "source": [
        "df2.columns"
      ],
      "execution_count": 377,
      "outputs": [
        {
          "output_type": "execute_result",
          "data": {
            "text/plain": [
              "Index(['Borough', '% with Household Income less than £15,000 (2009)',\n",
              "       'Median Weekly Household Income (2009)',\n",
              "       'Median 2 Bedroom Weekly Rent (Oct 2010)', 'Median House Price (2009)',\n",
              "       '% Home Ownership (2009)', 'Earnings to House Price Ratio (2009)'],\n",
              "      dtype='object')"
            ]
          },
          "metadata": {
            "tags": []
          },
          "execution_count": 377
        }
      ]
    },
    {
      "cell_type": "markdown",
      "metadata": {
        "id": "OuXqH_UeCj7A",
        "colab_type": "text"
      },
      "source": [
        "Renaming the each coloumn"
      ]
    },
    {
      "cell_type": "code",
      "metadata": {
        "id": "nzHgchUvp3JX",
        "colab_type": "code",
        "colab": {}
      },
      "source": [
        "df2 =df2.rename(columns={\"Median Weekly Household Income (2009)\": \"Weekly Income\",\n",
        "                    \"Median 2 Bedroom Weekly Rent (Oct 2010)\": \"Weekly Rent rate\",\n",
        "                    \"Median House Price (2009)\":\"AVG-House Price\",\n",
        "                    \"% with Household Income less than £15,000 (2009)\":\"Income < 15000\",\n",
        "                    \"Earnings to House Price Ratio (2009)\":\"Earnings to House Price Ratio\",\n",
        "                    \"% Home Ownership (2009)\":\"Home Ownership %\"})"
      ],
      "execution_count": 0,
      "outputs": []
    },
    {
      "cell_type": "code",
      "metadata": {
        "id": "RVc_FN9E0GKv",
        "colab_type": "code",
        "colab": {}
      },
      "source": [
        "df2['Weekly Income'] = df2['Weekly Income'].str.replace(',', '').str.replace('£', '').astype(int)\n",
        "df2['Weekly Rent rate'] = df2['Weekly Rent rate'].str.replace(',', '').str.replace('£', '').astype(int)\n",
        "df2['AVG-House Price'] = df2['AVG-House Price'].str.replace(',', '').str.replace('£', '').astype(int)"
      ],
      "execution_count": 0,
      "outputs": []
    },
    {
      "cell_type": "markdown",
      "metadata": {
        "id": "gQkMSvulAPII",
        "colab_type": "text"
      },
      "source": [
        "### Getting the Coordinates of each Borough"
      ]
    },
    {
      "cell_type": "code",
      "metadata": {
        "id": "h34PU-dkqLlL",
        "colab_type": "code",
        "outputId": "459a088e-4cd4-40f2-dd70-9ed411d2afba",
        "colab": {
          "base_uri": "https://localhost:8080/",
          "height": 554
        }
      },
      "source": [
        "longi = []\n",
        "lati = []\n",
        "for address in df2['Borough']:\n",
        "  geolocator = Nominatim(user_agent=\"foursquare_agent\")\n",
        "  location = geolocator.geocode(address)\n",
        "  latitude = location.latitude\n",
        "  longitude = location.longitude\n",
        "  print(latitude, longitude)\n",
        "  #applending each cordinates in the list\n",
        "  lati.append(latitude) \n",
        "  longi.append(longitude) "
      ],
      "execution_count": 380,
      "outputs": [
        {
          "output_type": "stream",
          "text": [
            "51.5541171 0.15050434261994267\n",
            "51.65309 -0.2002261\n",
            "39.9692378 -82.936864\n",
            "32.9373463 -87.1647184\n",
            "51.4028046 0.0148142\n",
            "39.9448402 -75.1198911\n",
            "51.3713049 -0.101957\n",
            "51.5126553 -0.3051952\n",
            "51.6520851 -0.0810175\n",
            "51.4820845 -0.0045417\n",
            "51.5432402 -0.0493621\n",
            "51.4920377 -0.2236401\n",
            "51.587929849999995 -0.10541010599099046\n",
            "51.5967688 -0.33727515543507014\n",
            "51.0043613 -2.337474942629507\n",
            "51.542519299999995 -0.44833493117949663\n",
            "51.4686132 -0.3613471\n",
            "51.5384287 -0.0999051\n",
            "51.4875417 -0.1682205\n",
            "51.4096275 -0.3062621\n",
            "51.5013012 -0.117287\n",
            "51.4624325 -0.0101331\n",
            "51.410802849999996 -0.18809850595572736\n",
            "51.52999955 0.02931796029382208\n",
            "51.5763203 0.0454097\n",
            "51.44046095 -0.3055192359117199\n",
            "51.5029222 -0.103458\n",
            "30.5672947 -100.6432359\n",
            "51.1288633 1.2986686\n",
            "42.3756401 -71.2358004\n",
            "51.4570271 -0.1932607\n",
            "39.8366528 -105.0372046\n"
          ],
          "name": "stdout"
        }
      ]
    },
    {
      "cell_type": "markdown",
      "metadata": {
        "id": "WnNS802cA2e6",
        "colab_type": "text"
      },
      "source": [
        "### Making the Dataframe of cordinates"
      ]
    },
    {
      "cell_type": "code",
      "metadata": {
        "id": "87IXq5gJs30Z",
        "colab_type": "code",
        "colab": {}
      },
      "source": [
        "\n",
        "df = pd.DataFrame(list(zip(lati, longi)), columns = [ 'Latitude','Longitude',])"
      ],
      "execution_count": 0,
      "outputs": []
    },
    {
      "cell_type": "code",
      "metadata": {
        "id": "EjTBKKEJwMm0",
        "colab_type": "code",
        "outputId": "28591da4-3364-46e7-f960-e98a6fa48cc6",
        "colab": {
          "base_uri": "https://localhost:8080/",
          "height": 195
        }
      },
      "source": [
        "df.head()"
      ],
      "execution_count": 382,
      "outputs": [
        {
          "output_type": "execute_result",
          "data": {
            "text/html": [
              "<div>\n",
              "<style scoped>\n",
              "    .dataframe tbody tr th:only-of-type {\n",
              "        vertical-align: middle;\n",
              "    }\n",
              "\n",
              "    .dataframe tbody tr th {\n",
              "        vertical-align: top;\n",
              "    }\n",
              "\n",
              "    .dataframe thead th {\n",
              "        text-align: right;\n",
              "    }\n",
              "</style>\n",
              "<table border=\"1\" class=\"dataframe\">\n",
              "  <thead>\n",
              "    <tr style=\"text-align: right;\">\n",
              "      <th></th>\n",
              "      <th>Latitude</th>\n",
              "      <th>Longitude</th>\n",
              "    </tr>\n",
              "  </thead>\n",
              "  <tbody>\n",
              "    <tr>\n",
              "      <th>0</th>\n",
              "      <td>51.554117</td>\n",
              "      <td>0.150504</td>\n",
              "    </tr>\n",
              "    <tr>\n",
              "      <th>1</th>\n",
              "      <td>51.653090</td>\n",
              "      <td>-0.200226</td>\n",
              "    </tr>\n",
              "    <tr>\n",
              "      <th>2</th>\n",
              "      <td>39.969238</td>\n",
              "      <td>-82.936864</td>\n",
              "    </tr>\n",
              "    <tr>\n",
              "      <th>3</th>\n",
              "      <td>32.937346</td>\n",
              "      <td>-87.164718</td>\n",
              "    </tr>\n",
              "    <tr>\n",
              "      <th>4</th>\n",
              "      <td>51.402805</td>\n",
              "      <td>0.014814</td>\n",
              "    </tr>\n",
              "  </tbody>\n",
              "</table>\n",
              "</div>"
            ],
            "text/plain": [
              "    Latitude  Longitude\n",
              "0  51.554117   0.150504\n",
              "1  51.653090  -0.200226\n",
              "2  39.969238 -82.936864\n",
              "3  32.937346 -87.164718\n",
              "4  51.402805   0.014814"
            ]
          },
          "metadata": {
            "tags": []
          },
          "execution_count": 382
        }
      ]
    },
    {
      "cell_type": "markdown",
      "metadata": {
        "id": "Dlu-18oKBCAj",
        "colab_type": "text"
      },
      "source": [
        "Conocatenating the two dataframe"
      ]
    },
    {
      "cell_type": "code",
      "metadata": {
        "id": "4zjER_zzwN-N",
        "colab_type": "code",
        "colab": {}
      },
      "source": [
        "\n",
        "dataframe = pd.concat([df2['Borough'], df], axis=1, sort=False)"
      ],
      "execution_count": 0,
      "outputs": []
    },
    {
      "cell_type": "code",
      "metadata": {
        "id": "6hfKo0kiye8T",
        "colab_type": "code",
        "outputId": "5b2b7856-ee6a-428e-f33c-464d30b49690",
        "colab": {
          "base_uri": "https://localhost:8080/",
          "height": 994
        }
      },
      "source": [
        "dataframe"
      ],
      "execution_count": 383,
      "outputs": [
        {
          "output_type": "execute_result",
          "data": {
            "text/html": [
              "<div>\n",
              "<style scoped>\n",
              "    .dataframe tbody tr th:only-of-type {\n",
              "        vertical-align: middle;\n",
              "    }\n",
              "\n",
              "    .dataframe tbody tr th {\n",
              "        vertical-align: top;\n",
              "    }\n",
              "\n",
              "    .dataframe thead th {\n",
              "        text-align: right;\n",
              "    }\n",
              "</style>\n",
              "<table border=\"1\" class=\"dataframe\">\n",
              "  <thead>\n",
              "    <tr style=\"text-align: right;\">\n",
              "      <th></th>\n",
              "      <th>Borough</th>\n",
              "      <th>Latitude</th>\n",
              "      <th>Longitude</th>\n",
              "    </tr>\n",
              "  </thead>\n",
              "  <tbody>\n",
              "    <tr>\n",
              "      <th>0</th>\n",
              "      <td>Barking and Dagenham</td>\n",
              "      <td>51.554117</td>\n",
              "      <td>0.150504</td>\n",
              "    </tr>\n",
              "    <tr>\n",
              "      <th>1</th>\n",
              "      <td>Barnet</td>\n",
              "      <td>51.653090</td>\n",
              "      <td>-0.200226</td>\n",
              "    </tr>\n",
              "    <tr>\n",
              "      <th>2</th>\n",
              "      <td>Bexley</td>\n",
              "      <td>39.969238</td>\n",
              "      <td>-82.936864</td>\n",
              "    </tr>\n",
              "    <tr>\n",
              "      <th>3</th>\n",
              "      <td>Brent</td>\n",
              "      <td>32.937346</td>\n",
              "      <td>-87.164718</td>\n",
              "    </tr>\n",
              "    <tr>\n",
              "      <th>4</th>\n",
              "      <td>Bromley</td>\n",
              "      <td>51.402805</td>\n",
              "      <td>0.014814</td>\n",
              "    </tr>\n",
              "    <tr>\n",
              "      <th>5</th>\n",
              "      <td>Camden</td>\n",
              "      <td>39.944840</td>\n",
              "      <td>-75.119891</td>\n",
              "    </tr>\n",
              "    <tr>\n",
              "      <th>6</th>\n",
              "      <td>Croydon</td>\n",
              "      <td>51.371305</td>\n",
              "      <td>-0.101957</td>\n",
              "    </tr>\n",
              "    <tr>\n",
              "      <th>7</th>\n",
              "      <td>Ealing</td>\n",
              "      <td>51.512655</td>\n",
              "      <td>-0.305195</td>\n",
              "    </tr>\n",
              "    <tr>\n",
              "      <th>8</th>\n",
              "      <td>Enfield</td>\n",
              "      <td>51.652085</td>\n",
              "      <td>-0.081018</td>\n",
              "    </tr>\n",
              "    <tr>\n",
              "      <th>9</th>\n",
              "      <td>Greenwich</td>\n",
              "      <td>51.482084</td>\n",
              "      <td>-0.004542</td>\n",
              "    </tr>\n",
              "    <tr>\n",
              "      <th>10</th>\n",
              "      <td>Hackney</td>\n",
              "      <td>51.543240</td>\n",
              "      <td>-0.049362</td>\n",
              "    </tr>\n",
              "    <tr>\n",
              "      <th>11</th>\n",
              "      <td>Hammersmith and Fulham</td>\n",
              "      <td>51.492038</td>\n",
              "      <td>-0.223640</td>\n",
              "    </tr>\n",
              "    <tr>\n",
              "      <th>12</th>\n",
              "      <td>Haringey</td>\n",
              "      <td>51.587930</td>\n",
              "      <td>-0.105410</td>\n",
              "    </tr>\n",
              "    <tr>\n",
              "      <th>13</th>\n",
              "      <td>Harrow</td>\n",
              "      <td>51.596769</td>\n",
              "      <td>-0.337275</td>\n",
              "    </tr>\n",
              "    <tr>\n",
              "      <th>14</th>\n",
              "      <td>Havering</td>\n",
              "      <td>51.004361</td>\n",
              "      <td>-2.337475</td>\n",
              "    </tr>\n",
              "    <tr>\n",
              "      <th>15</th>\n",
              "      <td>Hillingdon</td>\n",
              "      <td>51.542519</td>\n",
              "      <td>-0.448335</td>\n",
              "    </tr>\n",
              "    <tr>\n",
              "      <th>16</th>\n",
              "      <td>Hounslow</td>\n",
              "      <td>51.468613</td>\n",
              "      <td>-0.361347</td>\n",
              "    </tr>\n",
              "    <tr>\n",
              "      <th>17</th>\n",
              "      <td>Islington</td>\n",
              "      <td>51.538429</td>\n",
              "      <td>-0.099905</td>\n",
              "    </tr>\n",
              "    <tr>\n",
              "      <th>18</th>\n",
              "      <td>Kensington and Chelsea</td>\n",
              "      <td>51.487542</td>\n",
              "      <td>-0.168220</td>\n",
              "    </tr>\n",
              "    <tr>\n",
              "      <th>19</th>\n",
              "      <td>Kingston upon Thames</td>\n",
              "      <td>51.409627</td>\n",
              "      <td>-0.306262</td>\n",
              "    </tr>\n",
              "    <tr>\n",
              "      <th>20</th>\n",
              "      <td>Lambeth</td>\n",
              "      <td>51.501301</td>\n",
              "      <td>-0.117287</td>\n",
              "    </tr>\n",
              "    <tr>\n",
              "      <th>21</th>\n",
              "      <td>Lewisham</td>\n",
              "      <td>51.462432</td>\n",
              "      <td>-0.010133</td>\n",
              "    </tr>\n",
              "    <tr>\n",
              "      <th>22</th>\n",
              "      <td>Merton</td>\n",
              "      <td>51.410803</td>\n",
              "      <td>-0.188099</td>\n",
              "    </tr>\n",
              "    <tr>\n",
              "      <th>23</th>\n",
              "      <td>Newham</td>\n",
              "      <td>51.530000</td>\n",
              "      <td>0.029318</td>\n",
              "    </tr>\n",
              "    <tr>\n",
              "      <th>24</th>\n",
              "      <td>Redbridge</td>\n",
              "      <td>51.576320</td>\n",
              "      <td>0.045410</td>\n",
              "    </tr>\n",
              "    <tr>\n",
              "      <th>25</th>\n",
              "      <td>Richmond upon Thames</td>\n",
              "      <td>51.440461</td>\n",
              "      <td>-0.305519</td>\n",
              "    </tr>\n",
              "    <tr>\n",
              "      <th>26</th>\n",
              "      <td>Southwark</td>\n",
              "      <td>51.502922</td>\n",
              "      <td>-0.103458</td>\n",
              "    </tr>\n",
              "    <tr>\n",
              "      <th>27</th>\n",
              "      <td>Sutton</td>\n",
              "      <td>30.567295</td>\n",
              "      <td>-100.643236</td>\n",
              "    </tr>\n",
              "    <tr>\n",
              "      <th>28</th>\n",
              "      <td>Tower Hamlets</td>\n",
              "      <td>51.128863</td>\n",
              "      <td>1.298669</td>\n",
              "    </tr>\n",
              "    <tr>\n",
              "      <th>29</th>\n",
              "      <td>Waltham Forest</td>\n",
              "      <td>42.375640</td>\n",
              "      <td>-71.235800</td>\n",
              "    </tr>\n",
              "    <tr>\n",
              "      <th>30</th>\n",
              "      <td>Wandsworth</td>\n",
              "      <td>51.457027</td>\n",
              "      <td>-0.193261</td>\n",
              "    </tr>\n",
              "    <tr>\n",
              "      <th>31</th>\n",
              "      <td>Westminster</td>\n",
              "      <td>39.836653</td>\n",
              "      <td>-105.037205</td>\n",
              "    </tr>\n",
              "  </tbody>\n",
              "</table>\n",
              "</div>"
            ],
            "text/plain": [
              "                   Borough   Latitude   Longitude\n",
              "0     Barking and Dagenham  51.554117    0.150504\n",
              "1                   Barnet  51.653090   -0.200226\n",
              "2                   Bexley  39.969238  -82.936864\n",
              "3                    Brent  32.937346  -87.164718\n",
              "4                  Bromley  51.402805    0.014814\n",
              "5                   Camden  39.944840  -75.119891\n",
              "6                  Croydon  51.371305   -0.101957\n",
              "7                   Ealing  51.512655   -0.305195\n",
              "8                  Enfield  51.652085   -0.081018\n",
              "9                Greenwich  51.482084   -0.004542\n",
              "10                 Hackney  51.543240   -0.049362\n",
              "11  Hammersmith and Fulham  51.492038   -0.223640\n",
              "12                Haringey  51.587930   -0.105410\n",
              "13                  Harrow  51.596769   -0.337275\n",
              "14                Havering  51.004361   -2.337475\n",
              "15              Hillingdon  51.542519   -0.448335\n",
              "16                Hounslow  51.468613   -0.361347\n",
              "17               Islington  51.538429   -0.099905\n",
              "18  Kensington and Chelsea  51.487542   -0.168220\n",
              "19    Kingston upon Thames  51.409627   -0.306262\n",
              "20                 Lambeth  51.501301   -0.117287\n",
              "21                Lewisham  51.462432   -0.010133\n",
              "22                  Merton  51.410803   -0.188099\n",
              "23                  Newham  51.530000    0.029318\n",
              "24               Redbridge  51.576320    0.045410\n",
              "25    Richmond upon Thames  51.440461   -0.305519\n",
              "26               Southwark  51.502922   -0.103458\n",
              "27                  Sutton  30.567295 -100.643236\n",
              "28           Tower Hamlets  51.128863    1.298669\n",
              "29          Waltham Forest  42.375640  -71.235800\n",
              "30              Wandsworth  51.457027   -0.193261\n",
              "31             Westminster  39.836653 -105.037205"
            ]
          },
          "metadata": {
            "tags": []
          },
          "execution_count": 383
        }
      ]
    },
    {
      "cell_type": "markdown",
      "metadata": {
        "id": "g-qe3qWgBLoV",
        "colab_type": "text"
      },
      "source": [
        "### Getting the London Cordinates"
      ]
    },
    {
      "cell_type": "code",
      "metadata": {
        "id": "Et7HAsEayf-x",
        "colab_type": "code",
        "outputId": "d13f2acd-4b3b-4326-8558-72d7f0828a95",
        "colab": {
          "base_uri": "https://localhost:8080/",
          "height": 34
        }
      },
      "source": [
        "address = 'London'\n",
        "geolocator = Nominatim(user_agent=\"foursquare_agent\")\n",
        "location = geolocator.geocode(address)\n",
        "latitude = location.latitude\n",
        "longitude = location.longitude\n",
        "print(latitude, longitude)"
      ],
      "execution_count": 384,
      "outputs": [
        {
          "output_type": "stream",
          "text": [
            "51.5073219 -0.1276474\n"
          ],
          "name": "stdout"
        }
      ]
    },
    {
      "cell_type": "markdown",
      "metadata": {
        "id": "a-Q8HJC0BSH9",
        "colab_type": "text"
      },
      "source": [
        "### Visualizing the the Borough"
      ]
    },
    {
      "cell_type": "code",
      "metadata": {
        "id": "Cg5SmdZhzsrJ",
        "colab_type": "code",
        "outputId": "715a1484-128a-406b-9ee6-18c09ff84185",
        "colab": {
          "base_uri": "https://localhost:8080/",
          "height": 866
        }
      },
      "source": [
        "venues_map = folium.Map(location=[latitude, longitude], zoom_start=10)\n",
        "# add the Italian restaurants as blue circle markers\n",
        "for lat, lng, label in zip(dataframe.Latitude, dataframe.Longitude, dataframe.Borough):\n",
        "    folium.CircleMarker(\n",
        "        [lat, lng],\n",
        "        radius=10,\n",
        "        color='blue',\n",
        "        popup=label,\n",
        "        fill = True,\n",
        "        fill_color='blue',\n",
        "        fill_opacity=0.6\n",
        "    ).add_to(venues_map)\n",
        "\n",
        "# display map\n",
        "venues_map"
      ],
      "execution_count": 385,
      "outputs": [
        {
          "output_type": "execute_result",
          "data": {
            "text/html": [
              "<div style=\"width:100%;\"><div style=\"position:relative;width:100%;height:0;padding-bottom:60%;\"><span style=\"color:#565656\">Make this Notebook Trusted to load map: File -> Trust Notebook</span><iframe src=\"about:blank\" style=\"position:absolute;width:100%;height:100%;left:0;top:0;border:none !important;\" data-html=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 onload=\"this.contentDocument.open();this.contentDocument.write(atob(this.getAttribute('data-html')));this.contentDocument.close();\" allowfullscreen webkitallowfullscreen mozallowfullscreen></iframe></div></div>"
            ],
            "text/plain": [
              "<folium.folium.Map at 0x7f6a9ed64cc0>"
            ]
          },
          "metadata": {
            "tags": []
          },
          "execution_count": 385
        }
      ]
    },
    {
      "cell_type": "markdown",
      "metadata": {
        "colab_type": "text",
        "id": "oOigMFh7D7DO"
      },
      "source": [
        "### Staked Visualization of of Weekly Rent RATE and Weekly INOME\n",
        "Sortign the values by weekly Rent rate for visualization"
      ]
    },
    {
      "cell_type": "code",
      "metadata": {
        "id": "rDyK7rsD54mm",
        "colab_type": "code",
        "outputId": "0bf3c84c-003a-4af6-e4e7-02facfe612d5",
        "colab": {
          "base_uri": "https://localhost:8080/",
          "height": 195
        }
      },
      "source": [
        "df2.sort_values(by=['Weekly Rent rate'], inplace=True)\n",
        "df2.head()"
      ],
      "execution_count": 386,
      "outputs": [
        {
          "output_type": "execute_result",
          "data": {
            "text/html": [
              "<div>\n",
              "<style scoped>\n",
              "    .dataframe tbody tr th:only-of-type {\n",
              "        vertical-align: middle;\n",
              "    }\n",
              "\n",
              "    .dataframe tbody tr th {\n",
              "        vertical-align: top;\n",
              "    }\n",
              "\n",
              "    .dataframe thead th {\n",
              "        text-align: right;\n",
              "    }\n",
              "</style>\n",
              "<table border=\"1\" class=\"dataframe\">\n",
              "  <thead>\n",
              "    <tr style=\"text-align: right;\">\n",
              "      <th></th>\n",
              "      <th>Borough</th>\n",
              "      <th>Income &lt; 15000</th>\n",
              "      <th>Weekly Income</th>\n",
              "      <th>Weekly Rent rate</th>\n",
              "      <th>AVG-House Price</th>\n",
              "      <th>Home Ownership %</th>\n",
              "      <th>Earnings to House Price Ratio</th>\n",
              "    </tr>\n",
              "  </thead>\n",
              "  <tbody>\n",
              "    <tr>\n",
              "      <th>2</th>\n",
              "      <td>Bexley</td>\n",
              "      <td>12.4</td>\n",
              "      <td>647</td>\n",
              "      <td>173</td>\n",
              "      <td>196000</td>\n",
              "      <td>79</td>\n",
              "      <td>7.0</td>\n",
              "    </tr>\n",
              "    <tr>\n",
              "      <th>14</th>\n",
              "      <td>Havering</td>\n",
              "      <td>12.6</td>\n",
              "      <td>642</td>\n",
              "      <td>183</td>\n",
              "      <td>199995</td>\n",
              "      <td>76</td>\n",
              "      <td>7.1</td>\n",
              "    </tr>\n",
              "    <tr>\n",
              "      <th>0</th>\n",
              "      <td>Barking and Dagenham</td>\n",
              "      <td>18.5</td>\n",
              "      <td>528</td>\n",
              "      <td>184</td>\n",
              "      <td>160000</td>\n",
              "      <td>50</td>\n",
              "      <td>6.1</td>\n",
              "    </tr>\n",
              "    <tr>\n",
              "      <th>27</th>\n",
              "      <td>Sutton</td>\n",
              "      <td>10.9</td>\n",
              "      <td>680</td>\n",
              "      <td>196</td>\n",
              "      <td>210000</td>\n",
              "      <td>70</td>\n",
              "      <td>8.1</td>\n",
              "    </tr>\n",
              "    <tr>\n",
              "      <th>4</th>\n",
              "      <td>Bromley</td>\n",
              "      <td>9.8</td>\n",
              "      <td>718</td>\n",
              "      <td>196</td>\n",
              "      <td>249000</td>\n",
              "      <td>75</td>\n",
              "      <td>8.8</td>\n",
              "    </tr>\n",
              "  </tbody>\n",
              "</table>\n",
              "</div>"
            ],
            "text/plain": [
              "                 Borough  ...  Earnings to House Price Ratio\n",
              "2                 Bexley  ...                            7.0\n",
              "14              Havering  ...                            7.1\n",
              "0   Barking and Dagenham  ...                            6.1\n",
              "27                Sutton  ...                            8.1\n",
              "4                Bromley  ...                            8.8\n",
              "\n",
              "[5 rows x 7 columns]"
            ]
          },
          "metadata": {
            "tags": []
          },
          "execution_count": 386
        }
      ]
    },
    {
      "cell_type": "code",
      "metadata": {
        "id": "AbjB-60G6WHW",
        "colab_type": "code",
        "outputId": "42f510d2-8692-4afc-acc9-0208297e024a",
        "colab": {
          "base_uri": "https://localhost:8080/",
          "height": 699
        }
      },
      "source": [
        "import matplotlib\n",
        "import matplotlib.pyplot as plt\n",
        "import numpy as np\n",
        "\n",
        "\n",
        "labels = df2['Borough']\n",
        "men_means = df2['Weekly Income']\n",
        "women_means = df2['Weekly Rent rate']\n",
        "num = len(labels)\n",
        "x = np.arange(num)  # the label locations\n",
        "\n",
        "width = 0.5  # the width of the bars\n",
        "\n",
        "fig, ax = plt.subplots(figsize=(20,8))\n",
        "rects1 = ax.bar(x , men_means, width, label='Weekly Income',align='edge')\n",
        "rects2 = ax.bar(x, women_means, width, label='Weekly Rent Rate',align='edge')\n",
        "#Add some text for labels, title and custom x-axis tick labels, etc.\n",
        "ax.set_ylabel('Scores')\n",
        "ax.set_title('AVG weekly Income & Rent Rate of London Borough')\n",
        "ax.set_xticks(x)\n",
        "ax.set_xticklabels(labels)\n",
        "ax.legend()\n",
        "plt.box(False)\n",
        "fig.tight_layout()\n",
        "plt.xticks(rotation=90)\n",
        "plt.show()"
      ],
      "execution_count": 370,
      "outputs": [
        {
          "output_type": "display_data",
          "data": {
            "image/png": "[encoded data removed]",
            "text/plain": [
              "<Figure size 1440x576 with 1 Axes>"
            ]
          },
          "metadata": {
            "tags": [],
            "needs_background": "light"
          }
        }
      ]
    },
    {
      "cell_type": "markdown",
      "metadata": {
        "id": "kY3-l8JvDww_",
        "colab_type": "text"
      },
      "source": [
        "Sorting the values by Average House price in each Borough"
      ]
    },
    {
      "cell_type": "code",
      "metadata": {
        "id": "dgAWzNxYeu1e",
        "colab_type": "code",
        "colab": {}
      },
      "source": [
        "df_sorted = df2.set_index('Borough')\n",
        "df_sorted = df_sorted[['AVG-House Price']]"
      ],
      "execution_count": 0,
      "outputs": []
    },
    {
      "cell_type": "code",
      "metadata": {
        "id": "lvi-6Q_GOemV",
        "colab_type": "code",
        "outputId": "99448233-2684-47b6-f152-2ae94373ae6b",
        "colab": {
          "base_uri": "https://localhost:8080/",
          "height": 636
        }
      },
      "source": [
        "import matplotlib.pyplot as plt\n",
        "import seaborn as sns\n",
        "df_sorted.plot(kind='bar', figsize=(20, 8), width = 0.8, color = ['#5cb85c', '#5bc0de','#5bc0de', '#5bc0de', '#5bc0de', '#5bc0de', '#5bc0de'])\n",
        "#sns.set(font_scale=.90)\n",
        "plt.title(\"Average House Price in London Borough\")\n",
        "plt.box(False)"
      ],
      "execution_count": 388,
      "outputs": [
        {
          "output_type": "display_data",
          "data": {
            "image/png": "[encoded data removed]",
            "text/plain": [
              "<Figure size 1440x576 with 1 Axes>"
            ]
          },
          "metadata": {
            "tags": [],
            "needs_background": "light"
          }
        }
      ]
    },
    {
      "cell_type": "markdown",
      "metadata": {
        "id": "GcCBLA77EhKN",
        "colab_type": "text"
      },
      "source": [
        "## Clusting London Based on Coffee Shop\n",
        "Defining the function to get the Coffee Shops within the radius of 2 Kilometer"
      ]
    },
    {
      "cell_type": "code",
      "metadata": {
        "id": "LXLY6RxOYv4s",
        "colab_type": "code",
        "colab": {}
      },
      "source": [
        "def getNearbyVenues(names, latitudes, longitudes, radius=2000):\n",
        "    LIMIT = 100\n",
        "    venues_list=[]\n",
        "    for name, lat, lng in zip(names, latitudes, longitudes):\n",
        "        # create the API request URL\n",
        "        url = 'https://api.foursquare.com/v2/venues/explore?&client_id={}&client_secret={}&v={}&ll={},{}&radius={}&limit={}&categoryId={}'.format(\n",
        "        CLIENT_ID, \n",
        "        CLIENT_SECRET, \n",
        "        VERSION, \n",
        "        lat, \n",
        "        lng, \n",
        "        radius,\n",
        "        LIMIT,\n",
        "        cotegId)\n",
        "            \n",
        "        # make the GET request\n",
        "        results = requests.get(url).json()[\"response\"]['groups'][0]['items']\n",
        "        \n",
        "        # return only relevant information for each nearby venue\n",
        "        venues_list.append([(\n",
        "            name, \n",
        "            lat, \n",
        "            lng, \n",
        "            v['venue']['name'], \n",
        "            v['venue']['location']['lat'], \n",
        "            v['venue']['location']['lng'],  \n",
        "            v['venue']['categories'][0]['name']) for v in results])\n",
        "\n",
        "    nearby_venues = pd.DataFrame([item for venue_list in venues_list for item in venue_list])\n",
        "    nearby_venues.columns = ['Borough', \n",
        "                  'Latitude', \n",
        "                  'Longitude', \n",
        "                  'Venue', \n",
        "                  'Venue Latitude', \n",
        "                  'Venue Longitude', \n",
        "                  'Venue Category']\n",
        "    \n",
        "    return(nearby_venues)"
      ],
      "execution_count": 0,
      "outputs": []
    },
    {
      "cell_type": "code",
      "metadata": {
        "id": "XIusAgNWZCgH",
        "colab_type": "code",
        "colab": {}
      },
      "source": [
        "london_venues = getNearbyVenues(names=dataframe['Borough'],\n",
        "                                   latitudes=dataframe['Latitude'],\n",
        "                                   longitudes=dataframe['Longitude']\n",
        "                                  )"
      ],
      "execution_count": 0,
      "outputs": []
    },
    {
      "cell_type": "markdown",
      "metadata": {
        "id": "NGPaIuuXFP3w",
        "colab_type": "text"
      },
      "source": [
        "Counting the obtained Location in each Borough"
      ]
    },
    {
      "cell_type": "code",
      "metadata": {
        "id": "aEU9I87EZ5Uk",
        "colab_type": "code",
        "colab": {}
      },
      "source": [
        "london_venues_grouped = london_venues.groupby('Borough').count()\n"
      ],
      "execution_count": 0,
      "outputs": []
    },
    {
      "cell_type": "code",
      "metadata": {
        "id": "RVQum10TaXlk",
        "colab_type": "code",
        "colab": {}
      },
      "source": [
        "london_venues_grouped.sort_values(by=['Longitude'], inplace=True)\n",
        "\n",
        "venues_count =london_venues_grouped['Venue']"
      ],
      "execution_count": 0,
      "outputs": []
    },
    {
      "cell_type": "markdown",
      "metadata": {
        "id": "JDn8cXQ_FfVP",
        "colab_type": "text"
      },
      "source": [
        "### Ploting the Grapth for No. of obtained Coffee Shops"
      ]
    },
    {
      "cell_type": "code",
      "metadata": {
        "id": "x_W5k7gtcUDT",
        "colab_type": "code",
        "outputId": "5d2190e5-ab8b-4bda-ac0a-fb69ebcfbbc0",
        "colab": {
          "base_uri": "https://localhost:8080/",
          "height": 598
        }
      },
      "source": [
        "import matplotlib.pyplot as plt\n",
        "import seaborn as sns\n",
        "venues_count.plot(kind='bar', figsize=(10, 7), width = 0.8, color = ['#738fff'])\n",
        "#sns.set(font_scale=.90)\n",
        "plt.title(\"Percentage of Respondent's intrest in Data Science Area\")\n"
      ],
      "execution_count": 393,
      "outputs": [
        {
          "output_type": "execute_result",
          "data": {
            "text/plain": [
              "Text(0.5, 1.0, \"Percentage of Respondent's intrest in Data Science Area\")"
            ]
          },
          "metadata": {
            "tags": []
          },
          "execution_count": 393
        },
        {
          "output_type": "display_data",
          "data": {
            "image/png": "[encoded data removed]",
            "text/plain": [
              "<Figure size 720x504 with 1 Axes>"
            ]
          },
          "metadata": {
            "tags": [],
            "needs_background": "light"
          }
        }
      ]
    },
    {
      "cell_type": "code",
      "metadata": {
        "id": "UUATdlUvbOA3",
        "colab_type": "code",
        "colab": {}
      },
      "source": [
        "df2 =df2.set_index('Borough')"
      ],
      "execution_count": 0,
      "outputs": []
    },
    {
      "cell_type": "code",
      "metadata": {
        "id": "rKiSNVWjitNb",
        "colab_type": "code",
        "colab": {}
      },
      "source": [
        "result = pd.concat([df2, venues_count], axis=1)"
      ],
      "execution_count": 0,
      "outputs": []
    },
    {
      "cell_type": "code",
      "metadata": {
        "id": "aJSJfenCjedj",
        "colab_type": "code",
        "colab": {}
      },
      "source": [
        "result['Venue'] = result[\"Venue\"].fillna(0)"
      ],
      "execution_count": 0,
      "outputs": []
    },
    {
      "cell_type": "markdown",
      "metadata": {
        "id": "wZjLHHrlGA5w",
        "colab_type": "text"
      },
      "source": [
        "### Normalization of Data"
      ]
    },
    {
      "cell_type": "code",
      "metadata": {
        "id": "zSk73qRoiKDF",
        "colab_type": "code",
        "colab": {
          "base_uri": "https://localhost:8080/",
          "height": 1000
        },
        "outputId": "eb587731-ca78-43d8-9ba9-fbfc435d6734"
      },
      "source": [
        "from sklearn.preprocessing import StandardScaler\n",
        "\n",
        "X = result.values[:,1:]\n",
        "X = np.nan_to_num(X)\n",
        "cluster_dataset = StandardScaler().fit_transform(X)\n",
        "cluster_dataset"
      ],
      "execution_count": 397,
      "outputs": [
        {
          "output_type": "execute_result",
          "data": {
            "text/plain": [
              "array([[ 3.07384980e-02, -1.00649676e+00, -8.46048625e-01,\n",
              "         1.80834597e+00, -6.70142740e-01, -8.16228305e-01],\n",
              "       [-4.85866581e-02, -8.90724303e-01, -8.06971353e-01,\n",
              "         1.59994115e+00, -6.36635603e-01, -1.06737548e+00],\n",
              "       [-1.85720022e+00, -8.79147058e-01, -1.19818425e+00,\n",
              "        -2.06233934e-01, -9.71706973e-01, -9.83659753e-01],\n",
              "       [ 5.54284528e-01, -7.40220115e-01, -7.09106995e-01,\n",
              "         1.18313151e+00, -3.01564233e-01, -1.06737548e+00],\n",
              "       [ 1.15715571e+00, -7.40220115e-01, -3.27626738e-01,\n",
              "         1.53047288e+00, -6.70142740e-02, -3.41839205e-01],\n",
              "       [ 2.36983904e-01, -7.40220115e-01, -5.13476094e-01,\n",
              "         1.11366324e+00, -6.03128466e-01, -7.32512582e-01],\n",
              "       [-3.27216269e-02, -7.40220115e-01, -8.02031673e-01,\n",
              "         6.27385335e-01, -5.36114192e-01, -3.48815515e-02],\n",
              "       [-8.89433313e-01, -7.40220115e-01, -6.11291544e-01,\n",
              "        -4.14638751e-01, -4.69099918e-01,  5.23223273e-01],\n",
              "       [-6.99052938e-01, -6.82333889e-01, -6.89543905e-01,\n",
              "        -2.75702206e-01, -5.36114192e-01, -8.44133547e-01],\n",
              "       [-7.30783000e-01, -6.82333889e-01, -6.60199269e-01,\n",
              "        -2.75702206e-01, -7.03649877e-01,  5.79033755e-01],\n",
              "       [-9.91564451e-04, -6.12870418e-01, -5.13476094e-01,\n",
              "         8.35790152e-01, -6.70142740e-01, -8.72038788e-01],\n",
              "       [-1.90479531e+00, -6.01293173e-01, -8.26485535e-01,\n",
              "        -1.24825802e+00, -8.37678425e-01, -7.04607341e-01],\n",
              "       [ 5.54284528e-01, -4.73943476e-01, -3.17845193e-01,\n",
              "         8.35790152e-01, -1.34028548e-01, -5.37175893e-01],\n",
              "       [-1.12046783e-01, -4.27634495e-01, -4.15660643e-01,\n",
              "         7.16391559e-02, -5.02607055e-01, -5.37175893e-01],\n",
              "       [-4.76942501e-01, -4.04480004e-01, -5.62383819e-01,\n",
              "         5.57917063e-01, -2.01042822e-01, -5.65081134e-01],\n",
              "       [-4.85866581e-02, -3.58171024e-01, -2.33723905e-01,\n",
              "         7.16391559e-02, -6.70142740e-02,  2.44170861e-01],\n",
              "       [ 1.29994100e+00, -3.46593778e-01, -1.22214292e-01,\n",
              "         1.18313151e+00,  1.00521411e-01,  2.16265619e-01],\n",
              "       [-8.73568281e-01, -3.11862043e-01, -7.33065667e-02,\n",
              "        -1.36765661e-01,  2.34549959e-01, -1.06737548e+00],\n",
              "       [ 6.49474715e-01, -2.07666836e-01,  7.34166090e-02,\n",
              "         6.96853607e-01,  3.35071370e-02, -7.88323064e-01],\n",
              "       [ 5.86014591e-01, -2.07666836e-01, -3.17845193e-01,\n",
              "         6.27385335e-01,  3.35071370e-02, -6.27867927e-02],\n",
              "       [-7.78378094e-01,  5.86098039e-02, -3.17845193e-01,\n",
              "        -4.84107023e-01, -3.35071370e-02,  5.79033755e-01],\n",
              "       [-3.65887282e-01,  5.86098039e-02, -7.33065667e-02,\n",
              "        -9.00916658e-01, -5.02607055e-01,  1.72314864e+00],\n",
              "       [-8.89433313e-01,  1.85959501e-01,  2.45088838e-02,\n",
              "        -1.31772629e+00, -1.34028548e-01,  1.72314864e+00],\n",
              "       [ 2.58500852e+00,  3.24886444e-01,  9.31747187e-01,\n",
              "         1.18313151e+00,  8.37678425e-01, -1.18597275e-01],\n",
              "       [-1.33365419e+00,  4.05927160e-01, -7.33065667e-02,\n",
              "        -1.17878975e+00, -3.68578507e-01,  1.72314864e+00],\n",
              "       [-8.41838219e-01,  5.79585838e-01,  5.38535189e-02,\n",
              "        -1.66506765e+00, -8.71185562e-01, -8.16228305e-01],\n",
              "       [ 1.45859131e+00,  6.37472064e-01,  6.60309312e-01,\n",
              "        -2.75702206e-01,  6.03128466e-01,  1.27666479e+00],\n",
              "       [ 3.95634216e-01,  9.15325949e-01,  1.34501747e+00,\n",
              "        -1.10932147e+00,  8.04171288e-01,  1.72314864e+00],\n",
              "       [-4.76942501e-01,  1.15844810e+00,  6.11401587e-01,\n",
              "        -7.61980113e-01,  1.34028548e-01,  1.72314864e+00],\n",
              "       [-6.44516893e-02,  1.33210678e+00,  1.34501747e+00,\n",
              "        -1.24825802e+00,  9.38199836e-01, -8.44133547e-01],\n",
              "       [ 1.17302075e+00,  2.77926243e+00,  2.12729653e+00,\n",
              "        -1.45666284e+00,  1.54132830e+00, -9.55754511e-01],\n",
              "       [ 1.74416187e+00,  3.35812469e+00,  3.83931145e+00,\n",
              "        -9.70384930e-01,  4.55697063e+00,  1.72314864e+00]])"
            ]
          },
          "metadata": {
            "tags": []
          },
          "execution_count": 397
        }
      ]
    },
    {
      "cell_type": "markdown",
      "metadata": {
        "id": "dN_7oA8RGUX3",
        "colab_type": "text"
      },
      "source": [
        "### Applying the K-Means Alogorithm\n"
      ]
    },
    {
      "cell_type": "code",
      "metadata": {
        "id": "yiuvjjbXjSrM",
        "colab_type": "code",
        "colab": {
          "base_uri": "https://localhost:8080/",
          "height": 34
        },
        "outputId": "22b0ceaf-4bf3-4acb-965b-18c9a2744c31"
      },
      "source": [
        "from sklearn.cluster import KMeans \n",
        "num_clusters = 3\n",
        "\n",
        "k_means = KMeans(init=\"k-means++\", n_clusters=num_clusters, n_init=12)\n",
        "k_means.fit(cluster_dataset)\n",
        "labels = k_means.labels_\n",
        "\n",
        "print(labels)"
      ],
      "execution_count": 398,
      "outputs": [
        {
          "output_type": "stream",
          "text": [
            "[0 0 0 0 0 0 0 1 0 1 0 1 0 0 0 0 0 0 0 0 1 1 1 0 1 1 1 1 1 1 2 2]\n"
          ],
          "name": "stdout"
        }
      ]
    },
    {
      "cell_type": "markdown",
      "metadata": {
        "id": "BesHXv-BGeik",
        "colab_type": "text"
      },
      "source": [
        "Adding the the label of to the Dataframe"
      ]
    },
    {
      "cell_type": "code",
      "metadata": {
        "id": "6TPJUjx7jsCN",
        "colab_type": "code",
        "colab": {}
      },
      "source": [
        "result[\"Labels\"] = labels\n",
        "df1 = dataframe.set_index('Borough')\n",
        "result = pd.concat([result, df1], axis=1)\n",
        "result = result.reset_index()"
      ],
      "execution_count": 0,
      "outputs": []
    },
    {
      "cell_type": "markdown",
      "metadata": {
        "id": "KfIynB-WG0H1",
        "colab_type": "text"
      },
      "source": [
        "### Visualization the Clusters"
      ]
    },
    {
      "cell_type": "code",
      "metadata": {
        "id": "MZhEYaz4lY-I",
        "colab_type": "code",
        "colab": {
          "base_uri": "https://localhost:8080/",
          "height": 866
        },
        "outputId": "13c582bc-1262-43c1-96c0-399613e5152f"
      },
      "source": [
        "import matplotlib.cm as cm\n",
        "import matplotlib.colors as colors\n",
        "# create map\n",
        "map_clusters = folium.Map(location=[latitude, longitude], zoom_start=11)\n",
        "\n",
        "# set color scheme for the clusters\n",
        "x = np.arange(num_clusters)\n",
        "ys = [i + x + (i*x)**2 for i in range(num_clusters)]\n",
        "colors_array = cm.rainbow(np.linspace(0, 1, len(ys)))\n",
        "rainbow = [colors.rgb2hex(i) for i in colors_array]\n",
        "\n",
        "# add markers to the map\n",
        "markers_colors = []\n",
        "for lat, lon, poi, cluster in zip(result['Latitude'], result['Longitude'], result['index'], result['Labels']):\n",
        "    label = folium.Popup(str(poi) + ' Cluster ' + str(cluster), parse_html=True)\n",
        "    folium.CircleMarker(\n",
        "        [lat, lon],\n",
        "        radius=5,\n",
        "        popup=label,\n",
        "        color=rainbow[int(cluster)-1],\n",
        "        fill=True,\n",
        "        fill_color=rainbow[int(cluster)-1],\n",
        "        fill_opacity=0.7).add_to(map_clusters)\n",
        "       \n",
        "map_clusters"
      ],
      "execution_count": 400,
      "outputs": [
        {
          "output_type": "execute_result",
          "data": {
            "text/html": [
              "<div style=\"width:100%;\"><div style=\"position:relative;width:100%;height:0;padding-bottom:60%;\"><span style=\"color:#565656\">Make this Notebook Trusted to load map: File -> Trust Notebook</span><iframe src=\"about:blank\" style=\"position:absolute;width:100%;height:100%;left:0;top:0;border:none !important;\" data-html=PCFET0NUWVBFIGh0bWw+CjxoZWFkPiAgICAKICAgIDxtZXRhIGh0dHAtZXF1aXY9ImNvbnRlbnQtdHlwZSIgY29udGVudD0idGV4dC9odG1sOyBjaGFyc2V0PVVURi04IiAvPgogICAgPHNjcmlwdD5MX1BSRUZFUl9DQU5WQVM9ZmFsc2U7IExfTk9fVE9VQ0g9ZmFsc2U7IExfRElTQUJMRV8zRD1mYWxzZTs8L3NjcmlwdD4KICAgIDxzY3JpcHQgc3JjPSJodHRwczovL2Nkbi5qc2RlbGl2ci5uZXQvbnBtL2xlYWZsZXRAMS40LjAvZGlzdC9sZWFmbGV0LmpzIj48L3NjcmlwdD4KICAgIDxzY3JpcHQgc3JjPSJodHRwczovL2NvZGUuanF1ZXJ5LmNvbS9qcXVlcnktMS4xMi40Lm1pbi5qcyI+PC9zY3JpcHQ+CiAgICA8c2NyaXB0IHNyYz0iaHR0cHM6Ly9tYXhjZG4uYm9vdHN0cmFwY2RuLmNvbS9ib290c3RyYXAvMy4yLjAvanMvYm9vdHN0cmFwLm1pbi5qcyI+PC9zY3JpcHQ+CiAgICA8c2NyaXB0IHNyYz0iaHR0cHM6Ly9jZG5qcy5jbG91ZGZsYXJlLmNvbS9hamF4L2xpYnMvTGVhZmxldC5hd2Vzb21lLW1hcmtlcnMvMi4wLjIvbGVhZmxldC5hd2Vzb21lLW1hcmtlcnMuanMiPjwvc2NyaXB0PgogICAgPGxpbmsgcmVsPSJzdHlsZXNoZWV0IiBocmVmPSJodHRwczovL2Nkbi5qc2RlbGl2ci5uZXQvbnBtL2xlYWZsZXRAMS40LjAvZGlzdC9sZWFmbGV0LmNzcyIvPgogICAgPGxpbmsgcmVsPSJzdHlsZXNoZWV0IiBocmVmPSJodHRwczovL21heGNkbi5ib290c3RyYXBjZG4uY29tL2Jvb3RzdHJhcC8zLjIuMC9jc3MvYm9vdHN0cmFwLm1pbi5jc3MiLz4KICAgIDxsaW5rIHJlbD0ic3R5bGVzaGVldCIgaHJlZj0iaHR0cHM6Ly9tYXhjZG4uYm9vdHN0cmFwY2RuLmNvbS9ib290c3RyYXAvMy4yLjAvY3NzL2Jvb3RzdHJhcC10aGVtZS5taW4uY3NzIi8+CiAgICA8bGluayByZWw9InN0eWxlc2hlZXQiIGhyZWY9Imh0dHBzOi8vbWF4Y2RuLmJvb3RzdHJhcGNkbi5jb20vZm9udC1hd2Vzb21lLzQuNi4zL2Nzcy9mb250LWF3ZXNvbWUubWluLmNzcyIvPgogICAgPGxpbmsgcmVsPSJzdHlsZXNoZWV0IiBocmVmPSJodHRwczovL2NkbmpzLmNsb3VkZmxhcmUuY29tL2FqYXgvbGlicy9MZWFmbGV0LmF3ZXNvbWUtbWFya2Vycy8yLjAuMi9sZWFmbGV0LmF3ZXNvbWUtbWFya2Vycy5jc3MiLz4KICAgIDxsaW5rIHJlbD0ic3R5bGVzaGVldCIgaHJlZj0iaHR0cHM6Ly9yYXdjZG4uZ2l0aGFjay5jb20vcHl0aG9uLXZpc3VhbGl6YXRpb24vZm9saXVtL21hc3Rlci9mb2xpdW0vdGVtcGxhdGVzL2xlYWZsZXQuYXdlc29tZS5yb3RhdGUuY3NzIi8+CiAgICA8c3R5bGU+aHRtbCwgYm9keSB7d2lkdGg6IDEwMCU7aGVpZ2h0OiAxMDAlO21hcmdpbjogMDtwYWRkaW5nOiAwO308L3N0eWxlPgogICAgPHN0eWxlPiNtYXAge3Bvc2l0aW9uOmFic29sdXRlO3RvcDowO2JvdHRvbTowO3JpZ2h0OjA7bGVmdDowO308L3N0eWxlPgogICAgCiAgICA8bWV0YSBuYW1lPSJ2aWV3cG9ydCIgY29udGVudD0id2lkdGg9ZGV2aWNlLXdpZHRoLAogICAgICAgIGluaXRpYWwtc2NhbGU9MS4wLCBtYXhpbXVtLXNjYWxlPTEuMCwgdXNlci1zY2FsYWJsZT1ubyIgLz4KICAgIDxzdHlsZT4jbWFwXzIwODU2YjVjYTBmMzQ2Y2ZiY2ViZGRhODk4NjEyNjVhIHsKICAgICAgICBwb3NpdGlvbjogcmVsYXRpdmU7CiAgICAgICAgd2lkdGg6IDEwMC4wJTsKICAgICAgICBoZWlnaHQ6IDEwMC4wJTsKICAgICAgICBsZWZ0OiAwLjAlOwogICAgICAgIHRvcDogMC4wJTsKICAgICAgICB9CiAgICA8L3N0eWxlPgo8L2hlYWQ+Cjxib2R5PiAgICAKICAgIAogICAgPGRpdiBjbGFzcz0iZm9saXVtLW1hcCIgaWQ9Im1hcF8yMDg1NmI1Y2EwZjM0NmNmYmNlYmRkYTg5ODYxMjY1YSIgPjwvZGl2Pgo8L2JvZHk+CjxzY3JpcHQ+ICAgIAogICAgCiAgICAKICAgICAgICB2YXIgYm91bmRzID0gbnVsbDsKICAgIAoKICAgIHZhciBtYXBfMjA4NTZiNWNhMGYzNDZjZmJjZWJkZGE4OTg2MTI2NWEgPSBMLm1hcCgKICAgICAgICAnbWFwXzIwODU2YjVjYTBmMzQ2Y2ZiY2ViZGRhODk4NjEyNjVhJywgewogICAgICAgIGNlbnRlcjogWzUxLjUwNzMyMTksIC0wLjEyNzY0NzRdLAogICAgICAgIHpvb206IDExLAogICAgICAgIG1heEJvdW5kczogYm91bmRzLAogICAgICAgIGxheWVyczogW10sCiAgICAgICAgd29ybGRDb3B5SnVtcDogZmFsc2UsCiAgICAgICAgY3JzOiBMLkNSUy5FUFNHMzg1NywKICAgICAgICB6b29tQ29udHJvbDogdHJ1ZSwKICAgICAgICB9KTsKCgogICAgCiAgICB2YXIgdGlsZV9sYXllcl8zMTVkNTdhNTIxNTQ0M2U0ODU3ZjY1MDk3NTJmMTFlNSA9IEwudGlsZUxheWVyKAogICAgICAgICdodHRwczovL3tzfS50aWxlLm9wZW5zdHJlZXRtYXAub3JnL3t6fS97eH0ve3l9LnBuZycsCiAgICAgICAgewogICAgICAgICJhdHRyaWJ1dGlvbiI6IG51bGwsCiAgICAgICAgImRldGVjdFJldGluYSI6IGZhbHNlLAogICAgICAgICJtYXhOYXRpdmVab29tIjogMTgsCiAgICAgICAgIm1heFpvb20iOiAxOCwKICAgICAgICAibWluWm9vbSI6IDAsCiAgICAgICAgIm5vV3JhcCI6IGZhbHNlLAogICAgICAgICJvcGFjaXR5IjogMSwKICAgICAgICAic3ViZG9tYWlucyI6ICJhYmMiLAogICAgICAgICJ0bXMiOiBmYWxzZQp9KS5hZGRUbyhtYXBfMjA4NTZiNWNhMGYzNDZjZmJjZWJkZGE4OTg2MTI2NWEpOwogICAgCiAgICAgICAgICAgIHZhciBjaXJjbGVfbWFya2VyXzliM2MyYjRmYmE5MTQ3YTliNDVjN2QyZDVkMGYyYTU5ID0gTC5jaXJjbGVNYXJrZXIoCiAgICAgICAgICAgICAgICBbMzkuOTY5MjM3OCwgLTgyLjkzNjg2NF0sCiAgICAgICAgICAgICAgICB7CiAgImJ1YmJsaW5nTW91c2VFdmVudHMiOiB0cnVlLAogICJjb2xvciI6ICIjZmYwMDAwIiwKICAiZGFzaEFycmF5IjogbnVsbCwKICAiZGFzaE9mZnNldCI6IG51bGwsCiAgImZpbGwiOiB0cnVlLAogICJmaWxsQ29sb3IiOiAiI2ZmMDAwMCIsCiAgImZpbGxPcGFjaXR5IjogMC43LAogICJmaWxsUnVsZSI6ICJldmVub2RkIiwKICAibGluZUNhcCI6ICJyb3VuZCIsCiAgImxpbmVKb2luIjogInJvdW5kIiwKICAib3BhY2l0eSI6IDEuMCwKICAicmFkaXVzIjogNSwKICAic3Ryb2tlIjogdHJ1ZSwKICAid2VpZ2h0IjogMwp9CiAgICAgICAgICAgICAgICApCiAgICAgICAgICAgICAgICAuYWRkVG8obWFwXzIwODU2YjVjYTBmMzQ2Y2ZiY2ViZGRhODk4NjEyNjVhKTsKICAgICAgICAgICAgCiAgICAKICAgICAgICAgICAgdmFyIHBvcHVwX2ExOTllYjcwMmQ1OTQwNjQ4NDUwNjUyOTI0NWVmNGVkID0gTC5wb3B1cCh7bWF4V2lkdGg6ICcxMDAlJwogICAgICAgICAgICAKICAgICAgICAgICAgfSk7CgogICAgICAgICAgICAKICAgICAgICAgICAgICAgIHZhciBodG1sXzBkNDQ4YmM4ZjYzYzRhNmM4YTVjYzhhOTgwNGNiZmNlID0gJChgPGRpdiBpZD0iaHRtbF8wZDQ0OGJjOGY2M2M0YTZjOGE1Y2M4YTk4MDRjYmZjZSIgc3R5bGU9IndpZHRoOiAxMDAuMCU7IGhlaWdodDogMTAwLjAlOyI+QmV4bGV5IENsdXN0ZXIgMDwvZGl2PmApWzBdOwogICAgICAgICAgICAgICAgcG9wdXBfYTE5OWViNzAyZDU5NDA2NDg0NTA2NTI5MjQ1ZWY0ZWQuc2V0Q29udGVudChodG1sXzBkNDQ4YmM4ZjYzYzRhNmM4YTVjYzhhOTgwNGNiZmNlKTsKICAgICAgICAgICAgCgogICAgICAgICAgICBjaXJjbGVfbWFya2VyXzliM2MyYjRmYmE5MTQ3YTliNDVjN2QyZDVkMGYyYTU5LmJpbmRQb3B1cChwb3B1cF9hMTk5ZWI3MDJkNTk0MDY0ODQ1MDY1MjkyNDVlZjRlZCkKICAgICAgICAgICAgOwoKICAgICAgICAgICAgCiAgICAgICAgCiAgICAKICAgICAgICAgICAgdmFyIGNpcmNsZV9tYXJrZXJfN2IyYzZmNDc2NjQ0NDcyYzkxYjBkZWFhNmIyYTVmOGQgPSBMLmNpcmNsZU1hcmtlcigKICAgICAgICAgICAgICAgIFs1MS4wMDQzNjEzLCAtMi4zMzc0NzQ5NDI2Mjk1MDddLAogICAgICAgICAgICAgICAgewogICJidWJibGluZ01vdXNlRXZlbnRzIjogdHJ1ZSwKICAiY29sb3IiOiAiI2ZmMDAwMCIsCiAgImRhc2hBcnJheSI6IG51bGwsCiAgImRhc2hPZmZzZXQiOiBudWxsLAogICJmaWxsIjogdHJ1ZSwKICAiZmlsbENvbG9yIjogIiNmZjAwMDAiLAogICJmaWxsT3BhY2l0eSI6IDAuNywKICAiZmlsbFJ1bGUiOiAiZXZlbm9kZCIsCiAgImxpbmVDYXAiOiAicm91bmQiLAogICJsaW5lSm9pbiI6ICJyb3VuZCIsCiAgIm9wYWNpdHkiOiAxLjAsCiAgInJhZGl1cyI6IDUsCiAgInN0cm9rZSI6IHRydWUsCiAgIndlaWdodCI6IDMKfQogICAgICAgICAgICAgICAgKQogICAgICAgICAgICAgICAgLmFkZFRvKG1hcF8yMDg1NmI1Y2EwZjM0NmNmYmNlYmRkYTg5ODYxMjY1YSk7CiAgICAgICAgICAgIAogICAgCiAgICAgICAgICAgIHZhciBwb3B1cF8wZTUzMTc1MTBmOGM0YmVhYTg3M2MxZjZjN2MyZjU2YSA9IEwucG9wdXAoe21heFdpZHRoOiAnMTAwJScKICAgICAgICAgICAgCiAgICAgICAgICAgIH0pOwoKICAgICAgICAgICAgCiAgICAgICAgICAgICAgICB2YXIgaHRtbF9lZTA4ZjkxMzFjN2Y0YjZlOWJmZjg0ODI5YTQwNThhYSA9ICQoYDxkaXYgaWQ9Imh0bWxfZWUwOGY5MTMxYzdmNGI2ZTliZmY4NDgyOWE0MDU4YWEiIHN0eWxlPSJ3aWR0aDogMTAwLjAlOyBoZWlnaHQ6IDEwMC4wJTsiPkhhdmVyaW5nIENsdXN0ZXIgMDwvZGl2PmApWzBdOwogICAgICAgICAgICAgICAgcG9wdXBfMGU1MzE3NTEwZjhjNGJlYWE4NzNjMWY2YzdjMmY1NmEuc2V0Q29udGVudChodG1sX2VlMDhmOTEzMWM3ZjRiNmU5YmZmODQ4MjlhNDA1OGFhKTsKICAgICAgICAgICAgCgogICAgICAgICAgICBjaXJjbGVfbWFya2VyXzdiMmM2ZjQ3NjY0NDQ3MmM5MWIwZGVhYTZiMmE1ZjhkLmJpbmRQb3B1cChwb3B1cF8wZTUzMTc1MTBmOGM0YmVhYTg3M2MxZjZjN2MyZjU2YSkKICAgICAgICAgICAgOwoKICAgICAgICAgICAgCiAgICAgICAgCiAgICAKICAgICAgICAgICAgdmFyIGNpcmNsZV9tYXJrZXJfMmM5OTY3NWQwYTBmNGYyMGFkNzNlMTY0Mzk4NzFiNTEgPSBMLmNpcmNsZU1hcmtlcigKICAgICAgICAgICAgICAgIFs1MS41NTQxMTcxLCAwLjE1MDUwNDM0MjYxOTk0MjY3XSwKICAgICAgICAgICAgICAgIHsKICAiYnViYmxpbmdNb3VzZUV2ZW50cyI6IHRydWUsCiAgImNvbG9yIjogIiNmZjAwMDAiLAogICJkYXNoQXJyYXkiOiBudWxsLAogICJkYXNoT2Zmc2V0IjogbnVsbCwKICAiZmlsbCI6IHRydWUsCiAgImZpbGxDb2xvciI6ICIjZmYwMDAwIiwKICAiZmlsbE9wYWNpdHkiOiAwLjcsCiAgImZpbGxSdWxlIjogImV2ZW5vZGQiLAogICJsaW5lQ2FwIjogInJvdW5kIiwKICAibGluZUpvaW4iOiAicm91bmQiLAogICJvcGFjaXR5IjogMS4wLAogICJyYWRpdXMiOiA1LAogICJzdHJva2UiOiB0cnVlLAogICJ3ZWlnaHQiOiAzCn0KICAgICAgICAgICAgICAgICkKICAgICAgICAgICAgICAgIC5hZGRUbyhtYXBfMjA4NTZiNWNhMGYzNDZjZmJjZWJkZGE4OTg2MTI2NWEpOwogICAgICAgICAgICAKICAgIAogICAgICAgICAgICB2YXIgcG9wdXBfOWNhYWNjZGQxNjc4NGE4M2EyYTFjYTkzM2Y1ODNkMmYgPSBMLnBvcHVwKHttYXhXaWR0aDogJzEwMCUnCiAgICAgICAgICAgIAogICAgICAgICAgICB9KTsKCiAgICAgICAgICAgIAogICAgICAgICAgICAgICAgdmFyIGh0bWxfZTdmM2MxY2FkY2NmNDQ4YmFiZTE2ODE3NjdhZWM4OWUgPSAkKGA8ZGl2IGlkPSJodG1sX2U3ZjNjMWNhZGNjZjQ0OGJhYmUxNjgxNzY3YWVjODllIiBzdHlsZT0id2lkdGg6IDEwMC4wJTsgaGVpZ2h0OiAxMDAuMCU7Ij5CYXJraW5nIGFuZCBEYWdlbmhhbSBDbHVzdGVyIDA8L2Rpdj5gKVswXTsKICAgICAgICAgICAgICAgIHBvcHVwXzljYWFjY2RkMTY3ODRhODNhMmExY2E5MzNmNTgzZDJmLnNldENvbnRlbnQoaHRtbF9lN2YzYzFjYWRjY2Y0NDhiYWJlMTY4MTc2N2FlYzg5ZSk7CiAgICAgICAgICAgIAoKICAgICAgICAgICAgY2lyY2xlX21hcmtlcl8yYzk5Njc1ZDBhMGY0ZjIwYWQ3M2UxNjQzOTg3MWI1MS5iaW5kUG9wdXAocG9wdXBfOWNhYWNjZGQxNjc4NGE4M2EyYTFjYTkzM2Y1ODNkMmYpCiAgICAgICAgICAgIDsKCiAgICAgICAgICAgIAogICAgICAgIAogICAgCiAgICAgICAgICAgIHZhciBjaXJjbGVfbWFya2VyX2U3ZDAxOTk5ZTEyNTQ0NmU5NWM0MWQwZGJjNGViYzU3ID0gTC5jaXJjbGVNYXJrZXIoCiAgICAgICAgICAgICAgICBbMzAuNTY3Mjk0NywgLTEwMC42NDMyMzU5XSwKICAgICAgICAgICAgICAgIHsKICAiYnViYmxpbmdNb3VzZUV2ZW50cyI6IHRydWUsCiAgImNvbG9yIjogIiNmZjAwMDAiLAogICJkYXNoQXJyYXkiOiBudWxsLAogICJkYXNoT2Zmc2V0IjogbnVsbCwKICAiZmlsbCI6IHRydWUsCiAgImZpbGxDb2xvciI6ICIjZmYwMDAwIiwKICAiZmlsbE9wYWNpdHkiOiAwLjcsCiAgImZpbGxSdWxlIjogImV2ZW5vZGQiLAogICJsaW5lQ2FwIjogInJvdW5kIiwKICAibGluZUpvaW4iOiAicm91bmQiLAogICJvcGFjaXR5IjogMS4wLAogICJyYWRpdXMiOiA1LAogICJzdHJva2UiOiB0cnVlLAogICJ3ZWlnaHQiOiAzCn0KICAgICAgICAgICAgICAgICkKICAgICAgICAgICAgICAgIC5hZGRUbyhtYXBfMjA4NTZiNWNhMGYzNDZjZmJjZWJkZGE4OTg2MTI2NWEpOwogICAgICAgICAgICAKICAgIAogICAgICAgICAgICB2YXIgcG9wdXBfYzZjMTJmMWY0M2Q4NGFhZWFiNTE4NDlhOTA5Nzg2NjIgPSBMLnBvcHVwKHttYXhXaWR0aDogJzEwMCUnCiAgICAgICAgICAgIAogICAgICAgICAgICB9KTsKCiAgICAgICAgICAgIAogICAgICAgICAgICAgICAgdmFyIGh0bWxfOGVkMDNhY2M1ZDgzNDBiNzg1MTUzYTQxZTE5MDgxOTIgPSAkKGA8ZGl2IGlkPSJodG1sXzhlZDAzYWNjNWQ4MzQwYjc4NTE1M2E0MWUxOTA4MTkyIiBzdHlsZT0id2lkdGg6IDEwMC4wJTsgaGVpZ2h0OiAxMDAuMCU7Ij5TdXR0b24gQ2x1c3RlciAwPC9kaXY+YClbMF07CiAgICAgICAgICAgICAgICBwb3B1cF9jNmMxMmYxZjQzZDg0YWFlYWI1MTg0OWE5MDk3ODY2Mi5zZXRDb250ZW50KGh0bWxfOGVkMDNhY2M1ZDgzNDBiNzg1MTUzYTQxZTE5MDgxOTIpOwogICAgICAgICAgICAKCiAgICAgICAgICAgIGNpcmNsZV9tYXJrZXJfZTdkMDE5OTllMTI1NDQ2ZTk1YzQxZDBkYmM0ZWJjNTcuYmluZFBvcHVwKHBvcHVwX2M2YzEyZjFmNDNkODRhYWVhYjUxODQ5YTkwOTc4NjYyKQogICAgICAgICAgICA7CgogICAgICAgICAgICAKICAgICAgICAKICAgIAogICAgICAgICAgICB2YXIgY2lyY2xlX21hcmtlcl8zZTc2ZTNkZmU4ZmY0N2JiYjdkMTQxZDRhNDRmYmZlYiA9IEwuY2lyY2xlTWFya2VyKAogICAgICAgICAgICAgICAgWzUxLjQwMjgwNDYsIDAuMDE0ODE0Ml0sCiAgICAgICAgICAgICAgICB7CiAgImJ1YmJsaW5nTW91c2VFdmVudHMiOiB0cnVlLAogICJjb2xvciI6ICIjZmYwMDAwIiwKICAiZGFzaEFycmF5IjogbnVsbCwKICAiZGFzaE9mZnNldCI6IG51bGwsCiAgImZpbGwiOiB0cnVlLAogICJmaWxsQ29sb3IiOiAiI2ZmMDAwMCIsCiAgImZpbGxPcGFjaXR5IjogMC43LAogICJmaWxsUnVsZSI6ICJldmVub2RkIiwKICAibGluZUNhcCI6ICJyb3VuZCIsCiAgImxpbmVKb2luIjogInJvdW5kIiwKICAib3BhY2l0eSI6IDEuMCwKICAicmFkaXVzIjogNSwKICAic3Ryb2tlIjogdHJ1ZSwKICAid2VpZ2h0IjogMwp9CiAgICAgICAgICAgICAgICApCiAgICAgICAgICAgICAgICAuYWRkVG8obWFwXzIwODU2YjVjYTBmMzQ2Y2ZiY2ViZGRhODk4NjEyNjVhKTsKICAgICAgICAgICAgCiAgICAKICAgICAgICAgICAgdmFyIHBvcHVwXzJkNWZhOGEwN2JkMzQyYjNiMWU0YzQzZTg4ZDU1MTg4ID0gTC5wb3B1cCh7bWF4V2lkdGg6ICcxMDAlJwogICAgICAgICAgICAKICAgICAgICAgICAgfSk7CgogICAgICAgICAgICAKICAgICAgICAgICAgICAgIHZhciBodG1sXzcwMmJhYzNmMGVmOTRjOWFiOGRlYjFhNGU2NmRkZmJhID0gJChgPGRpdiBpZD0iaHRtbF83MDJiYWMzZjBlZjk0YzlhYjhkZWIxYTRlNjZkZGZiYSIgc3R5bGU9IndpZHRoOiAxMDAuMCU7IGhlaWdodDogMTAwLjAlOyI+QnJvbWxleSBDbHVzdGVyIDA8L2Rpdj5gKVswXTsKICAgICAgICAgICAgICAgIHBvcHVwXzJkNWZhOGEwN2JkMzQyYjNiMWU0YzQzZTg4ZDU1MTg4LnNldENvbnRlbnQoaHRtbF83MDJiYWMzZjBlZjk0YzlhYjhkZWIxYTRlNjZkZGZiYSk7CiAgICAgICAgICAgIAoKICAgICAgICAgICAgY2lyY2xlX21hcmtlcl8zZTc2ZTNkZmU4ZmY0N2JiYjdkMTQxZDRhNDRmYmZlYi5iaW5kUG9wdXAocG9wdXBfMmQ1ZmE4YTA3YmQzNDJiM2IxZTRjNDNlODhkNTUxODgpCiAgICAgICAgICAgIDsKCiAgICAgICAgICAgIAogICAgICAgIAogICAgCiAgICAgICAgICAgIHZhciBjaXJjbGVfbWFya2VyXzQ4NzllOTk4MmZmNzQwM2M5NmUwMTFhYzg2MDRkYjdmID0gTC5jaXJjbGVNYXJrZXIoCiAgICAgICAgICAgICAgICBbNTEuNTc2MzIwMywgMC4wNDU0MDk3XSwKICAgICAgICAgICAgICAgIHsKICAiYnViYmxpbmdNb3VzZUV2ZW50cyI6IHRydWUsCiAgImNvbG9yIjogIiNmZjAwMDAiLAogICJkYXNoQXJyYXkiOiBudWxsLAogICJkYXNoT2Zmc2V0IjogbnVsbCwKICAiZmlsbCI6IHRydWUsCiAgImZpbGxDb2xvciI6ICIjZmYwMDAwIiwKICAiZmlsbE9wYWNpdHkiOiAwLjcsCiAgImZpbGxSdWxlIjogImV2ZW5vZGQiLAogICJsaW5lQ2FwIjogInJvdW5kIiwKICAibGluZUpvaW4iOiAicm91bmQiLAogICJvcGFjaXR5IjogMS4wLAogICJyYWRpdXMiOiA1LAogICJzdHJva2UiOiB0cnVlLAogICJ3ZWlnaHQiOiAzCn0KICAgICAgICAgICAgICAgICkKICAgICAgICAgICAgICAgIC5hZGRUbyhtYXBfMjA4NTZiNWNhMGYzNDZjZmJjZWJkZGE4OTg2MTI2NWEpOwogICAgICAgICAgICAKICAgIAogICAgICAgICAgICB2YXIgcG9wdXBfNWI1YWI0YWRjNDM3NDdlZjhmYjYxNGI1NWIwOTA5NTQgPSBMLnBvcHVwKHttYXhXaWR0aDogJzEwMCUnCiAgICAgICAgICAgIAogICAgICAgICAgICB9KTsKCiAgICAgICAgICAgIAogICAgICAgICAgICAgICAgdmFyIGh0bWxfN2U4ZTkwY2QwYTgxNDYzNzgxNWRlMmZmZDgyMTc4MzMgPSAkKGA8ZGl2IGlkPSJodG1sXzdlOGU5MGNkMGE4MTQ2Mzc4MTVkZTJmZmQ4MjE3ODMzIiBzdHlsZT0id2lkdGg6IDEwMC4wJTsgaGVpZ2h0OiAxMDAuMCU7Ij5SZWRicmlkZ2UgQ2x1c3RlciAwPC9kaXY+YClbMF07CiAgICAgICAgICAgICAgICBwb3B1cF81YjVhYjRhZGM0Mzc0N2VmOGZiNjE0YjU1YjA5MDk1NC5zZXRDb250ZW50KGh0bWxfN2U4ZTkwY2QwYTgxNDYzNzgxNWRlMmZmZDgyMTc4MzMpOwogICAgICAgICAgICAKCiAgICAgICAgICAgIGNpcmNsZV9tYXJrZXJfNDg3OWU5OTgyZmY3NDAzYzk2ZTAxMWFjODYwNGRiN2YuYmluZFBvcHVwKHBvcHVwXzViNWFiNGFkYzQzNzQ3ZWY4ZmI2MTRiNTViMDkwOTU0KQogICAgICAgICAgICA7CgogICAgICAgICAgICAKICAgICAgICAKICAgIAogICAgICAgICAgICB2YXIgY2lyY2xlX21hcmtlcl9mZWM1YjM5ZDI5ZTI0YmRjOGI4NGMxN2RiNjFmMjZlMCA9IEwuY2lyY2xlTWFya2VyKAogICAgICAgICAgICAgICAgWzUxLjM3MTMwNDksIC0wLjEwMTk1N10sCiAgICAgICAgICAgICAgICB7CiAgImJ1YmJsaW5nTW91c2VFdmVudHMiOiB0cnVlLAogICJjb2xvciI6ICIjZmYwMDAwIiwKICAiZGFzaEFycmF5IjogbnVsbCwKICAiZGFzaE9mZnNldCI6IG51bGwsCiAgImZpbGwiOiB0cnVlLAogICJmaWxsQ29sb3IiOiAiI2ZmMDAwMCIsCiAgImZpbGxPcGFjaXR5IjogMC43LAogICJmaWxsUnVsZSI6ICJldmVub2RkIiwKICAibGluZUNhcCI6ICJyb3VuZCIsCiAgImxpbmVKb2luIjogInJvdW5kIiwKICAib3BhY2l0eSI6IDEuMCwKICAicmFkaXVzIjogNSwKICAic3Ryb2tlIjogdHJ1ZSwKICAid2VpZ2h0IjogMwp9CiAgICAgICAgICAgICAgICApCiAgICAgICAgICAgICAgICAuYWRkVG8obWFwXzIwODU2YjVjYTBmMzQ2Y2ZiY2ViZGRhODk4NjEyNjVhKTsKICAgICAgICAgICAgCiAgICAKICAgICAgICAgICAgdmFyIHBvcHVwXzUzYmY3NWQ4MjViNjQyZGU5OTdhYTU5NTY5YjBjNjFhID0gTC5wb3B1cCh7bWF4V2lkdGg6ICcxMDAlJwogICAgICAgICAgICAKICAgICAgICAgICAgfSk7CgogICAgICAgICAgICAKICAgICAgICAgICAgICAgIHZhciBodG1sX2UzMGQzNDNkOGYzMjRiOWZiZmM5NTQ3NmIwMWU3M2I2ID0gJChgPGRpdiBpZD0iaHRtbF9lMzBkMzQzZDhmMzI0YjlmYmZjOTU0NzZiMDFlNzNiNiIgc3R5bGU9IndpZHRoOiAxMDAuMCU7IGhlaWdodDogMTAwLjAlOyI+Q3JveWRvbiBDbHVzdGVyIDA8L2Rpdj5gKVswXTsKICAgICAgICAgICAgICAgIHBvcHVwXzUzYmY3NWQ4MjViNjQyZGU5OTdhYTU5NTY5YjBjNjFhLnNldENvbnRlbnQoaHRtbF9lMzBkMzQzZDhmMzI0YjlmYmZjOTU0NzZiMDFlNzNiNik7CiAgICAgICAgICAgIAoKICAgICAgICAgICAgY2lyY2xlX21hcmtlcl9mZWM1YjM5ZDI5ZTI0YmRjOGI4NGMxN2RiNjFmMjZlMC5iaW5kUG9wdXAocG9wdXBfNTNiZjc1ZDgyNWI2NDJkZTk5N2FhNTk1NjliMGM2MWEpCiAgICAgICAgICAgIDsKCiAgICAgICAgICAgIAogICAgICAgIAogICAgCiAgICAgICAgICAgIHZhciBjaXJjbGVfbWFya2VyX2E0MTI4NTQ1OWFkNjQ4ZmZhMGY5ZjAwODc1ZmJjYjgxID0gTC5jaXJjbGVNYXJrZXIoCiAgICAgICAgICAgICAgICBbNTEuNDgyMDg0NSwgLTAuMDA0NTQxN10sCiAgICAgICAgICAgICAgICB7CiAgImJ1YmJsaW5nTW91c2VFdmVudHMiOiB0cnVlLAogICJjb2xvciI6ICIjODAwMGZmIiwKICAiZGFzaEFycmF5IjogbnVsbCwKICAiZGFzaE9mZnNldCI6IG51bGwsCiAgImZpbGwiOiB0cnVlLAogICJmaWxsQ29sb3IiOiAiIzgwMDBmZiIsCiAgImZpbGxPcGFjaXR5IjogMC43LAogICJmaWxsUnVsZSI6ICJldmVub2RkIiwKICAibGluZUNhcCI6ICJyb3VuZCIsCiAgImxpbmVKb2luIjogInJvdW5kIiwKICAib3BhY2l0eSI6IDEuMCwKICAicmFkaXVzIjogNSwKICAic3Ryb2tlIjogdHJ1ZSwKICAid2VpZ2h0IjogMwp9CiAgICAgICAgICAgICAgICApCiAgICAgICAgICAgICAgICAuYWRkVG8obWFwXzIwODU2YjVjYTBmMzQ2Y2ZiY2ViZGRhODk4NjEyNjVhKTsKICAgICAgICAgICAgCiAgICAKICAgICAgICAgICAgdmFyIHBvcHVwX2JjN2QyODg1NmRjMDRhYTA4NjlhYTk0NDE0NTNlNjZjID0gTC5wb3B1cCh7bWF4V2lkdGg6ICcxMDAlJwogICAgICAgICAgICAKICAgICAgICAgICAgfSk7CgogICAgICAgICAgICAKICAgICAgICAgICAgICAgIHZhciBodG1sXzM2OTk2NjdlYzQ3ZjRhNmFhMjY1ZTAwMTNiNTQ3ZWQ5ID0gJChgPGRpdiBpZD0iaHRtbF8zNjk5NjY3ZWM0N2Y0YTZhYTI2NWUwMDEzYjU0N2VkOSIgc3R5bGU9IndpZHRoOiAxMDAuMCU7IGhlaWdodDogMTAwLjAlOyI+R3JlZW53aWNoIENsdXN0ZXIgMTwvZGl2PmApWzBdOwogICAgICAgICAgICAgICAgcG9wdXBfYmM3ZDI4ODU2ZGMwNGFhMDg2OWFhOTQ0MTQ1M2U2NmMuc2V0Q29udGVudChodG1sXzM2OTk2NjdlYzQ3ZjRhNmFhMjY1ZTAwMTNiNTQ3ZWQ5KTsKICAgICAgICAgICAgCgogICAgICAgICAgICBjaXJjbGVfbWFya2VyX2E0MTI4NTQ1OWFkNjQ4ZmZhMGY5ZjAwODc1ZmJjYjgxLmJpbmRQb3B1cChwb3B1cF9iYzdkMjg4NTZkYzA0YWEwODY5YWE5NDQxNDUzZTY2YykKICAgICAgICAgICAgOwoKICAgICAgICAgICAgCiAgICAgICAgCiAgICAKICAgICAgICAgICAgdmFyIGNpcmNsZV9tYXJrZXJfYzZmNjVlOWE4ZTVlNDJiMGE1Yzc0MzhhNWVlMWZiZDUgPSBMLmNpcmNsZU1hcmtlcigKICAgICAgICAgICAgICAgIFs0Mi4zNzU2NDAxLCAtNzEuMjM1ODAwNF0sCiAgICAgICAgICAgICAgICB7CiAgImJ1YmJsaW5nTW91c2VFdmVudHMiOiB0cnVlLAogICJjb2xvciI6ICIjZmYwMDAwIiwKICAiZGFzaEFycmF5IjogbnVsbCwKICAiZGFzaE9mZnNldCI6IG51bGwsCiAgImZpbGwiOiB0cnVlLAogICJmaWxsQ29sb3IiOiAiI2ZmMDAwMCIsCiAgImZpbGxPcGFjaXR5IjogMC43LAogICJmaWxsUnVsZSI6ICJldmVub2RkIiwKICAibGluZUNhcCI6ICJyb3VuZCIsCiAgImxpbmVKb2luIjogInJvdW5kIiwKICAib3BhY2l0eSI6IDEuMCwKICAicmFkaXVzIjogNSwKICAic3Ryb2tlIjogdHJ1ZSwKICAid2VpZ2h0IjogMwp9CiAgICAgICAgICAgICAgICApCiAgICAgICAgICAgICAgICAuYWRkVG8obWFwXzIwODU2YjVjYTBmMzQ2Y2ZiY2ViZGRhODk4NjEyNjVhKTsKICAgICAgICAgICAgCiAgICAKICAgICAgICAgICAgdmFyIHBvcHVwXzgxMTkxZWQ2MDUxZjQzZDRiMTg1MmJkNGJkZDRlZmY3ID0gTC5wb3B1cCh7bWF4V2lkdGg6ICcxMDAlJwogICAgICAgICAgICAKICAgICAgICAgICAgfSk7CgogICAgICAgICAgICAKICAgICAgICAgICAgICAgIHZhciBodG1sXzUxNzhjYWVhYzg4YTQxMjQ5YTJmNTdmMTIxMTZlNzJlID0gJChgPGRpdiBpZD0iaHRtbF81MTc4Y2FlYWM4OGE0MTI0OWEyZjU3ZjEyMTE2ZTcyZSIgc3R5bGU9IndpZHRoOiAxMDAuMCU7IGhlaWdodDogMTAwLjAlOyI+V2FsdGhhbSBGb3Jlc3QgQ2x1c3RlciAwPC9kaXY+YClbMF07CiAgICAgICAgICAgICAgICBwb3B1cF84MTE5MWVkNjA1MWY0M2Q0YjE4NTJiZDRiZGQ0ZWZmNy5zZXRDb250ZW50KGh0bWxfNTE3OGNhZWFjODhhNDEyNDlhMmY1N2YxMjExNmU3MmUpOwogICAgICAgICAgICAKCiAgICAgICAgICAgIGNpcmNsZV9tYXJrZXJfYzZmNjVlOWE4ZTVlNDJiMGE1Yzc0MzhhNWVlMWZiZDUuYmluZFBvcHVwKHBvcHVwXzgxMTkxZWQ2MDUxZjQzZDRiMTg1MmJkNGJkZDRlZmY3KQogICAgICAgICAgICA7CgogICAgICAgICAgICAKICAgICAgICAKICAgIAogICAgICAgICAgICB2YXIgY2lyY2xlX21hcmtlcl8xNWMxYzczNDBhZmE0Y2RkOTk4Yjc4NTBhMDZiMzY5OCA9IEwuY2lyY2xlTWFya2VyKAogICAgICAgICAgICAgICAgWzUxLjQ2MjQzMjUsIC0wLjAxMDEzMzFdLAogICAgICAgICAgICAgICAgewogICJidWJibGluZ01vdXNlRXZlbnRzIjogdHJ1ZSwKICAiY29sb3IiOiAiIzgwMDBmZiIsCiAgImRhc2hBcnJheSI6IG51bGwsCiAgImRhc2hPZmZzZXQiOiBudWxsLAogICJmaWxsIjogdHJ1ZSwKICAiZmlsbENvbG9yIjogIiM4MDAwZmYiLAogICJmaWxsT3BhY2l0eSI6IDAuNywKICAiZmlsbFJ1bGUiOiAiZXZlbm9kZCIsCiAgImxpbmVDYXAiOiAicm91bmQiLAogICJsaW5lSm9pbiI6ICJyb3VuZCIsCiAgIm9wYWNpdHkiOiAxLjAsCiAgInJhZGl1cyI6IDUsCiAgInN0cm9rZSI6IHRydWUsCiAgIndlaWdodCI6IDMKfQogICAgICAgICAgICAgICAgKQogICAgICAgICAgICAgICAgLmFkZFRvKG1hcF8yMDg1NmI1Y2EwZjM0NmNmYmNlYmRkYTg5ODYxMjY1YSk7CiAgICAgICAgICAgIAogICAgCiAgICAgICAgICAgIHZhciBwb3B1cF8yOWU4NTEyNTViNzk0MTUxYjlkMjkzMzEzNDVkNTcwYyA9IEwucG9wdXAoe21heFdpZHRoOiAnMTAwJScKICAgICAgICAgICAgCiAgICAgICAgICAgIH0pOwoKICAgICAgICAgICAgCiAgICAgICAgICAgICAgICB2YXIgaHRtbF80M2Y4OGJlMTE5NTA0YzJiOWU5ZGQ2MDkyZmY5MzIzYSA9ICQoYDxkaXYgaWQ9Imh0bWxfNDNmODhiZTExOTUwNGMyYjllOWRkNjA5MmZmOTMyM2EiIHN0eWxlPSJ3aWR0aDogMTAwLjAlOyBoZWlnaHQ6IDEwMC4wJTsiPkxld2lzaGFtIENsdXN0ZXIgMTwvZGl2PmApWzBdOwogICAgICAgICAgICAgICAgcG9wdXBfMjllODUxMjU1Yjc5NDE1MWI5ZDI5MzMxMzQ1ZDU3MGMuc2V0Q29udGVudChodG1sXzQzZjg4YmUxMTk1MDRjMmI5ZTlkZDYwOTJmZjkzMjNhKTsKICAgICAgICAgICAgCgogICAgICAgICAgICBjaXJjbGVfbWFya2VyXzE1YzFjNzM0MGFmYTRjZGQ5OThiNzg1MGEwNmIzNjk4LmJpbmRQb3B1cChwb3B1cF8yOWU4NTEyNTViNzk0MTUxYjlkMjkzMzEzNDVkNTcwYykKICAgICAgICAgICAgOwoKICAgICAgICAgICAgCiAgICAgICAgCiAgICAKICAgICAgICAgICAgdmFyIGNpcmNsZV9tYXJrZXJfZmY4ZGRiN2EzM2VkNDhmMDg3YTNkNDk3YjQ4M2JjY2UgPSBMLmNpcmNsZU1hcmtlcigKICAgICAgICAgICAgICAgIFs1MS41NDI1MTkyOTk5OTk5OTUsIC0wLjQ0ODMzNDkzMTE3OTQ5NjYzXSwKICAgICAgICAgICAgICAgIHsKICAiYnViYmxpbmdNb3VzZUV2ZW50cyI6IHRydWUsCiAgImNvbG9yIjogIiNmZjAwMDAiLAogICJkYXNoQXJyYXkiOiBudWxsLAogICJkYXNoT2Zmc2V0IjogbnVsbCwKICAiZmlsbCI6IHRydWUsCiAgImZpbGxDb2xvciI6ICIjZmYwMDAwIiwKICAiZmlsbE9wYWNpdHkiOiAwLjcsCiAgImZpbGxSdWxlIjogImV2ZW5vZGQiLAogICJsaW5lQ2FwIjogInJvdW5kIiwKICAibGluZUpvaW4iOiAicm91bmQiLAogICJvcGFjaXR5IjogMS4wLAogICJyYWRpdXMiOiA1LAogICJzdHJva2UiOiB0cnVlLAogICJ3ZWlnaHQiOiAzCn0KICAgICAgICAgICAgICAgICkKICAgICAgICAgICAgICAgIC5hZGRUbyhtYXBfMjA4NTZiNWNhMGYzNDZjZmJjZWJkZGE4OTg2MTI2NWEpOwogICAgICAgICAgICAKICAgIAogICAgICAgICAgICB2YXIgcG9wdXBfZGI5NGZhOWIxMjcxNDIxYTg3MzJmZDc3NmY2MzE2NDMgPSBMLnBvcHVwKHttYXhXaWR0aDogJzEwMCUnCiAgICAgICAgICAgIAogICAgICAgICAgICB9KTsKCiAgICAgICAgICAgIAogICAgICAgICAgICAgICAgdmFyIGh0bWxfZTQ1MTI0YTM4ZWU2NDdhYTkwNDUzMjA5YjkxNWM4YTggPSAkKGA8ZGl2IGlkPSJodG1sX2U0NTEyNGEzOGVlNjQ3YWE5MDQ1MzIwOWI5MTVjOGE4IiBzdHlsZT0id2lkdGg6IDEwMC4wJTsgaGVpZ2h0OiAxMDAuMCU7Ij5IaWxsaW5nZG9uIENsdXN0ZXIgMDwvZGl2PmApWzBdOwogICAgICAgICAgICAgICAgcG9wdXBfZGI5NGZhOWIxMjcxNDIxYTg3MzJmZDc3NmY2MzE2NDMuc2V0Q29udGVudChodG1sX2U0NTEyNGEzOGVlNjQ3YWE5MDQ1MzIwOWI5MTVjOGE4KTsKICAgICAgICAgICAgCgogICAgICAgICAgICBjaXJjbGVfbWFya2VyX2ZmOGRkYjdhMzNlZDQ4ZjA4N2EzZDQ5N2I0ODNiY2NlLmJpbmRQb3B1cChwb3B1cF9kYjk0ZmE5YjEyNzE0MjFhODczMmZkNzc2ZjYzMTY0MykKICAgICAgICAgICAgOwoKICAgICAgICAgICAgCiAgICAgICAgCiAgICAKICAgICAgICAgICAgdmFyIGNpcmNsZV9tYXJrZXJfMWM1M2I1ZjE3Nzg2NDBlZmIzN2M0ZGNkZTA0ZGMwMzQgPSBMLmNpcmNsZU1hcmtlcigKICAgICAgICAgICAgICAgIFs1MS41Mjk5OTk1NSwgMC4wMjkzMTc5NjAyOTM4MjIwOF0sCiAgICAgICAgICAgICAgICB7CiAgImJ1YmJsaW5nTW91c2VFdmVudHMiOiB0cnVlLAogICJjb2xvciI6ICIjODAwMGZmIiwKICAiZGFzaEFycmF5IjogbnVsbCwKICAiZGFzaE9mZnNldCI6IG51bGwsCiAgImZpbGwiOiB0cnVlLAogICJmaWxsQ29sb3IiOiAiIzgwMDBmZiIsCiAgImZpbGxPcGFjaXR5IjogMC43LAogICJmaWxsUnVsZSI6ICJldmVub2RkIiwKICAibGluZUNhcCI6ICJyb3VuZCIsCiAgImxpbmVKb2luIjogInJvdW5kIiwKICAib3BhY2l0eSI6IDEuMCwKICAicmFkaXVzIjogNSwKICAic3Ryb2tlIjogdHJ1ZSwKICAid2VpZ2h0IjogMwp9CiAgICAgICAgICAgICAgICApCiAgICAgICAgICAgICAgICAuYWRkVG8obWFwXzIwODU2YjVjYTBmMzQ2Y2ZiY2ViZGRhODk4NjEyNjVhKTsKICAgICAgICAgICAgCiAgICAKICAgICAgICAgICAgdmFyIHBvcHVwXzRlNDBhMGU4YTkxYjQ5Y2ViMjY5MDFmZjE4NWYwNWYwID0gTC5wb3B1cCh7bWF4V2lkdGg6ICcxMDAlJwogICAgICAgICAgICAKICAgICAgICAgICAgfSk7CgogICAgICAgICAgICAKICAgICAgICAgICAgICAgIHZhciBodG1sX2UxYzE0MzM2MDg4ODQ2ZWY5MWE5YmI2ZmMwZGMwZmVkID0gJChgPGRpdiBpZD0iaHRtbF9lMWMxNDMzNjA4ODg0NmVmOTFhOWJiNmZjMGRjMGZlZCIgc3R5bGU9IndpZHRoOiAxMDAuMCU7IGhlaWdodDogMTAwLjAlOyI+TmV3aGFtIENsdXN0ZXIgMTwvZGl2PmApWzBdOwogICAgICAgICAgICAgICAgcG9wdXBfNGU0MGEwZThhOTFiNDljZWIyNjkwMWZmMTg1ZjA1ZjAuc2V0Q29udGVudChodG1sX2UxYzE0MzM2MDg4ODQ2ZWY5MWE5YmI2ZmMwZGMwZmVkKTsKICAgICAgICAgICAgCgogICAgICAgICAgICBjaXJjbGVfbWFya2VyXzFjNTNiNWYxNzc4NjQwZWZiMzdjNGRjZGUwNGRjMDM0LmJpbmRQb3B1cChwb3B1cF80ZTQwYTBlOGE5MWI0OWNlYjI2OTAxZmYxODVmMDVmMCkKICAgICAgICAgICAgOwoKICAgICAgICAgICAgCiAgICAgICAgCiAgICAKICAgICAgICAgICAgdmFyIGNpcmNsZV9tYXJrZXJfMzA0Y2Y4ZDU2NDM3NGU3Y2ExMGNjNjA5ZjI4ZjY3NzEgPSBMLmNpcmNsZU1hcmtlcigKICAgICAgICAgICAgICAgIFs1MS41OTY3Njg4LCAtMC4zMzcyNzUxNTU0MzUwNzAxNF0sCiAgICAgICAgICAgICAgICB7CiAgImJ1YmJsaW5nTW91c2VFdmVudHMiOiB0cnVlLAogICJjb2xvciI6ICIjZmYwMDAwIiwKICAiZGFzaEFycmF5IjogbnVsbCwKICAiZGFzaE9mZnNldCI6IG51bGwsCiAgImZpbGwiOiB0cnVlLAogICJmaWxsQ29sb3IiOiAiI2ZmMDAwMCIsCiAgImZpbGxPcGFjaXR5IjogMC43LAogICJmaWxsUnVsZSI6ICJldmVub2RkIiwKICAibGluZUNhcCI6ICJyb3VuZCIsCiAgImxpbmVKb2luIjogInJvdW5kIiwKICAib3BhY2l0eSI6IDEuMCwKICAicmFkaXVzIjogNSwKICAic3Ryb2tlIjogdHJ1ZSwKICAid2VpZ2h0IjogMwp9CiAgICAgICAgICAgICAgICApCiAgICAgICAgICAgICAgICAuYWRkVG8obWFwXzIwODU2YjVjYTBmMzQ2Y2ZiY2ViZGRhODk4NjEyNjVhKTsKICAgICAgICAgICAgCiAgICAKICAgICAgICAgICAgdmFyIHBvcHVwX2NmNWMzMGNkNDVmZjQzZDNiODhmNjhhM2JmMDgxYWQ5ID0gTC5wb3B1cCh7bWF4V2lkdGg6ICcxMDAlJwogICAgICAgICAgICAKICAgICAgICAgICAgfSk7CgogICAgICAgICAgICAKICAgICAgICAgICAgICAgIHZhciBodG1sX2I3YjQxNTQ3MWUyNzQzYTVhZTU0OGU0MTVlODIwZGViID0gJChgPGRpdiBpZD0iaHRtbF9iN2I0MTU0NzFlMjc0M2E1YWU1NDhlNDE1ZTgyMGRlYiIgc3R5bGU9IndpZHRoOiAxMDAuMCU7IGhlaWdodDogMTAwLjAlOyI+SGFycm93IENsdXN0ZXIgMDwvZGl2PmApWzBdOwogICAgICAgICAgICAgICAgcG9wdXBfY2Y1YzMwY2Q0NWZmNDNkM2I4OGY2OGEzYmYwODFhZDkuc2V0Q29udGVudChodG1sX2I3YjQxNTQ3MWUyNzQzYTVhZTU0OGU0MTVlODIwZGViKTsKICAgICAgICAgICAgCgogICAgICAgICAgICBjaXJjbGVfbWFya2VyXzMwNGNmOGQ1NjQzNzRlN2NhMTBjYzYwOWYyOGY2NzcxLmJpbmRQb3B1cChwb3B1cF9jZjVjMzBjZDQ1ZmY0M2QzYjg4ZjY4YTNiZjA4MWFkOSkKICAgICAgICAgICAgOwoKICAgICAgICAgICAgCiAgICAgICAgCiAgICAKICAgICAgICAgICAgdmFyIGNpcmNsZV9tYXJrZXJfOTZkNDMzMmJjOGFiNDQxOGE3OTIzYThjODJjYzdjN2MgPSBMLmNpcmNsZU1hcmtlcigKICAgICAgICAgICAgICAgIFs1MS40Njg2MTMyLCAtMC4zNjEzNDcxXSwKICAgICAgICAgICAgICAgIHsKICAiYnViYmxpbmdNb3VzZUV2ZW50cyI6IHRydWUsCiAgImNvbG9yIjogIiNmZjAwMDAiLAogICJkYXNoQXJyYXkiOiBudWxsLAogICJkYXNoT2Zmc2V0IjogbnVsbCwKICAiZmlsbCI6IHRydWUsCiAgImZpbGxDb2xvciI6ICIjZmYwMDAwIiwKICAiZmlsbE9wYWNpdHkiOiAwLjcsCiAgImZpbGxSdWxlIjogImV2ZW5vZGQiLAogICJsaW5lQ2FwIjogInJvdW5kIiwKICAibGluZUpvaW4iOiAicm91bmQiLAogICJvcGFjaXR5IjogMS4wLAogICJyYWRpdXMiOiA1LAogICJzdHJva2UiOiB0cnVlLAogICJ3ZWlnaHQiOiAzCn0KICAgICAgICAgICAgICAgICkKICAgICAgICAgICAgICAgIC5hZGRUbyhtYXBfMjA4NTZiNWNhMGYzNDZjZmJjZWJkZGE4OTg2MTI2NWEpOwogICAgICAgICAgICAKICAgIAogICAgICAgICAgICB2YXIgcG9wdXBfYTQxODlkMzAyNWY5NDY5ZDgwMWE0YTFkZGI2MTEyMGMgPSBMLnBvcHVwKHttYXhXaWR0aDogJzEwMCUnCiAgICAgICAgICAgIAogICAgICAgICAgICB9KTsKCiAgICAgICAgICAgIAogICAgICAgICAgICAgICAgdmFyIGh0bWxfNzMxOTNiYzA2Y2JiNGI4YzllNjNiZjQ3NWE2MzU5NjMgPSAkKGA8ZGl2IGlkPSJodG1sXzczMTkzYmMwNmNiYjRiOGM5ZTYzYmY0NzVhNjM1OTYzIiBzdHlsZT0id2lkdGg6IDEwMC4wJTsgaGVpZ2h0OiAxMDAuMCU7Ij5Ib3Vuc2xvdyBDbHVzdGVyIDA8L2Rpdj5gKVswXTsKICAgICAgICAgICAgICAgIHBvcHVwX2E0MTg5ZDMwMjVmOTQ2OWQ4MDFhNGExZGRiNjExMjBjLnNldENvbnRlbnQoaHRtbF83MzE5M2JjMDZjYmI0YjhjOWU2M2JmNDc1YTYzNTk2Myk7CiAgICAgICAgICAgIAoKICAgICAgICAgICAgY2lyY2xlX21hcmtlcl85NmQ0MzMyYmM4YWI0NDE4YTc5MjNhOGM4MmNjN2M3Yy5iaW5kUG9wdXAocG9wdXBfYTQxODlkMzAyNWY5NDY5ZDgwMWE0YTFkZGI2MTEyMGMpCiAgICAgICAgICAgIDsKCiAgICAgICAgICAgIAogICAgICAgIAogICAgCiAgICAgICAgICAgIHZhciBjaXJjbGVfbWFya2VyXzJkMTRjZjAzYjVjYTQwOTBiNDhmMzNkZDI4ZTc4MzAwID0gTC5jaXJjbGVNYXJrZXIoCiAgICAgICAgICAgICAgICBbNTEuNjUyMDg1MSwgLTAuMDgxMDE3NV0sCiAgICAgICAgICAgICAgICB7CiAgImJ1YmJsaW5nTW91c2VFdmVudHMiOiB0cnVlLAogICJjb2xvciI6ICIjZmYwMDAwIiwKICAiZGFzaEFycmF5IjogbnVsbCwKICAiZGFzaE9mZnNldCI6IG51bGwsCiAgImZpbGwiOiB0cnVlLAogICJmaWxsQ29sb3IiOiAiI2ZmMDAwMCIsCiAgImZpbGxPcGFjaXR5IjogMC43LAogICJmaWxsUnVsZSI6ICJldmVub2RkIiwKICAibGluZUNhcCI6ICJyb3VuZCIsCiAgImxpbmVKb2luIjogInJvdW5kIiwKICAib3BhY2l0eSI6IDEuMCwKICAicmFkaXVzIjogNSwKICAic3Ryb2tlIjogdHJ1ZSwKICAid2VpZ2h0IjogMwp9CiAgICAgICAgICAgICAgICApCiAgICAgICAgICAgICAgICAuYWRkVG8obWFwXzIwODU2YjVjYTBmMzQ2Y2ZiY2ViZGRhODk4NjEyNjVhKTsKICAgICAgICAgICAgCiAgICAKICAgICAgICAgICAgdmFyIHBvcHVwXzljMmE3NmY0ZTc3YTQyYzdiYjhmNGFmODNkZjA2YTYxID0gTC5wb3B1cCh7bWF4V2lkdGg6ICcxMDAlJwogICAgICAgICAgICAKICAgICAgICAgICAgfSk7CgogICAgICAgICAgICAKICAgICAgICAgICAgICAgIHZhciBodG1sX2U0ZDQ4ZjZlYjIzYTQ4N2I4M2Y5MjQwYTk2YjQwMDA1ID0gJChgPGRpdiBpZD0iaHRtbF9lNGQ0OGY2ZWIyM2E0ODdiODNmOTI0MGE5NmI0MDAwNSIgc3R5bGU9IndpZHRoOiAxMDAuMCU7IGhlaWdodDogMTAwLjAlOyI+RW5maWVsZCBDbHVzdGVyIDA8L2Rpdj5gKVswXTsKICAgICAgICAgICAgICAgIHBvcHVwXzljMmE3NmY0ZTc3YTQyYzdiYjhmNGFmODNkZjA2YTYxLnNldENvbnRlbnQoaHRtbF9lNGQ0OGY2ZWIyM2E0ODdiODNmOTI0MGE5NmI0MDAwNSk7CiAgICAgICAgICAgIAoKICAgICAgICAgICAgY2lyY2xlX21hcmtlcl8yZDE0Y2YwM2I1Y2E0MDkwYjQ4ZjMzZGQyOGU3ODMwMC5iaW5kUG9wdXAocG9wdXBfOWMyYTc2ZjRlNzdhNDJjN2JiOGY0YWY4M2RmMDZhNjEpCiAgICAgICAgICAgIDsKCiAgICAgICAgICAgIAogICAgICAgIAogICAgCiAgICAgICAgICAgIHZhciBjaXJjbGVfbWFya2VyXzA4OTA3MjVlZjMyYzRkZjRhZTNjMGEzYjk5MjRjZWE4ID0gTC5jaXJjbGVNYXJrZXIoCiAgICAgICAgICAgICAgICBbNTEuNTEyNjU1MywgLTAuMzA1MTk1Ml0sCiAgICAgICAgICAgICAgICB7CiAgImJ1YmJsaW5nTW91c2VFdmVudHMiOiB0cnVlLAogICJjb2xvciI6ICIjZmYwMDAwIiwKICAiZGFzaEFycmF5IjogbnVsbCwKICAiZGFzaE9mZnNldCI6IG51bGwsCiAgImZpbGwiOiB0cnVlLAogICJmaWxsQ29sb3IiOiAiI2ZmMDAwMCIsCiAgImZpbGxPcGFjaXR5IjogMC43LAogICJmaWxsUnVsZSI6ICJldmVub2RkIiwKICAibGluZUNhcCI6ICJyb3VuZCIsCiAgImxpbmVKb2luIjogInJvdW5kIiwKICAib3BhY2l0eSI6IDEuMCwKICAicmFkaXVzIjogNSwKICAic3Ryb2tlIjogdHJ1ZSwKICAid2VpZ2h0IjogMwp9CiAgICAgICAgICAgICAgICApCiAgICAgICAgICAgICAgICAuYWRkVG8obWFwXzIwODU2YjVjYTBmMzQ2Y2ZiY2ViZGRhODk4NjEyNjVhKTsKICAgICAgICAgICAgCiAgICAKICAgICAgICAgICAgdmFyIHBvcHVwXzA5NDk4YmNkOTE3NDRjMjZiNzUzN2JlNWNmNmU4NmEwID0gTC5wb3B1cCh7bWF4V2lkdGg6ICcxMDAlJwogICAgICAgICAgICAKICAgICAgICAgICAgfSk7CgogICAgICAgICAgICAKICAgICAgICAgICAgICAgIHZhciBodG1sXzk3NTQwMGM4OWFlYjRmMTdhZDYxNjUwOWUwZTMxZGFlID0gJChgPGRpdiBpZD0iaHRtbF85NzU0MDBjODlhZWI0ZjE3YWQ2MTY1MDllMGUzMWRhZSIgc3R5bGU9IndpZHRoOiAxMDAuMCU7IGhlaWdodDogMTAwLjAlOyI+RWFsaW5nIENsdXN0ZXIgMDwvZGl2PmApWzBdOwogICAgICAgICAgICAgICAgcG9wdXBfMDk0OThiY2Q5MTc0NGMyNmI3NTM3YmU1Y2Y2ZTg2YTAuc2V0Q29udGVudChodG1sXzk3NTQwMGM4OWFlYjRmMTdhZDYxNjUwOWUwZTMxZGFlKTsKICAgICAgICAgICAgCgogICAgICAgICAgICBjaXJjbGVfbWFya2VyXzA4OTA3MjVlZjMyYzRkZjRhZTNjMGEzYjk5MjRjZWE4LmJpbmRQb3B1cChwb3B1cF8wOTQ5OGJjZDkxNzQ0YzI2Yjc1MzdiZTVjZjZlODZhMCkKICAgICAgICAgICAgOwoKICAgICAgICAgICAgCiAgICAgICAgCiAgICAKICAgICAgICAgICAgdmFyIGNpcmNsZV9tYXJrZXJfYzQyYzgwYTJjODE0NDg1OWEyZDZhODBhYzMwNTYwNGEgPSBMLmNpcmNsZU1hcmtlcigKICAgICAgICAgICAgICAgIFs1MS40MDk2Mjc1LCAtMC4zMDYyNjIxXSwKICAgICAgICAgICAgICAgIHsKICAiYnViYmxpbmdNb3VzZUV2ZW50cyI6IHRydWUsCiAgImNvbG9yIjogIiNmZjAwMDAiLAogICJkYXNoQXJyYXkiOiBudWxsLAogICJkYXNoT2Zmc2V0IjogbnVsbCwKICAiZmlsbCI6IHRydWUsCiAgImZpbGxDb2xvciI6ICIjZmYwMDAwIiwKICAiZmlsbE9wYWNpdHkiOiAwLjcsCiAgImZpbGxSdWxlIjogImV2ZW5vZGQiLAogICJsaW5lQ2FwIjogInJvdW5kIiwKICAibGluZUpvaW4iOiAicm91bmQiLAogICJvcGFjaXR5IjogMS4wLAogICJyYWRpdXMiOiA1LAogICJzdHJva2UiOiB0cnVlLAogICJ3ZWlnaHQiOiAzCn0KICAgICAgICAgICAgICAgICkKICAgICAgICAgICAgICAgIC5hZGRUbyhtYXBfMjA4NTZiNWNhMGYzNDZjZmJjZWJkZGE4OTg2MTI2NWEpOwogICAgICAgICAgICAKICAgIAogICAgICAgICAgICB2YXIgcG9wdXBfYWUyZDVkMGFiZTE2NGZmZGIxZTBmMjY1N2YzMzI4ZDQgPSBMLnBvcHVwKHttYXhXaWR0aDogJzEwMCUnCiAgICAgICAgICAgIAogICAgICAgICAgICB9KTsKCiAgICAgICAgICAgIAogICAgICAgICAgICAgICAgdmFyIGh0bWxfYmE0MmYxOTY4MTdmNGU4NTgzMzljYjRjMDUyYWZlNTEgPSAkKGA8ZGl2IGlkPSJodG1sX2JhNDJmMTk2ODE3ZjRlODU4MzM5Y2I0YzA1MmFmZTUxIiBzdHlsZT0id2lkdGg6IDEwMC4wJTsgaGVpZ2h0OiAxMDAuMCU7Ij5LaW5nc3RvbiB1cG9uIFRoYW1lcyBDbHVzdGVyIDA8L2Rpdj5gKVswXTsKICAgICAgICAgICAgICAgIHBvcHVwX2FlMmQ1ZDBhYmUxNjRmZmRiMWUwZjI2NTdmMzMyOGQ0LnNldENvbnRlbnQoaHRtbF9iYTQyZjE5NjgxN2Y0ZTg1ODMzOWNiNGMwNTJhZmU1MSk7CiAgICAgICAgICAgIAoKICAgICAgICAgICAgY2lyY2xlX21hcmtlcl9jNDJjODBhMmM4MTQ0ODU5YTJkNmE4MGFjMzA1NjA0YS5iaW5kUG9wdXAocG9wdXBfYWUyZDVkMGFiZTE2NGZmZGIxZTBmMjY1N2YzMzI4ZDQpCiAgICAgICAgICAgIDsKCiAgICAgICAgICAgIAogICAgICAgIAogICAgCiAgICAgICAgICAgIHZhciBjaXJjbGVfbWFya2VyXzE0ODBmMDQ4OGEwOTQwZjZiNTQ1YzQxN2U0MDcxM2E0ID0gTC5jaXJjbGVNYXJrZXIoCiAgICAgICAgICAgICAgICBbMzIuOTM3MzQ2MywgLTg3LjE2NDcxODRdLAogICAgICAgICAgICAgICAgewogICJidWJibGluZ01vdXNlRXZlbnRzIjogdHJ1ZSwKICAiY29sb3IiOiAiI2ZmMDAwMCIsCiAgImRhc2hBcnJheSI6IG51bGwsCiAgImRhc2hPZmZzZXQiOiBudWxsLAogICJmaWxsIjogdHJ1ZSwKICAiZmlsbENvbG9yIjogIiNmZjAwMDAiLAogICJmaWxsT3BhY2l0eSI6IDAuNywKICAiZmlsbFJ1bGUiOiAiZXZlbm9kZCIsCiAgImxpbmVDYXAiOiAicm91bmQiLAogICJsaW5lSm9pbiI6ICJyb3VuZCIsCiAgIm9wYWNpdHkiOiAxLjAsCiAgInJhZGl1cyI6IDUsCiAgInN0cm9rZSI6IHRydWUsCiAgIndlaWdodCI6IDMKfQogICAgICAgICAgICAgICAgKQogICAgICAgICAgICAgICAgLmFkZFRvKG1hcF8yMDg1NmI1Y2EwZjM0NmNmYmNlYmRkYTg5ODYxMjY1YSk7CiAgICAgICAgICAgIAogICAgCiAgICAgICAgICAgIHZhciBwb3B1cF80MDJiZjhkNWRjMjQ0NmQxYmQ1MTMwNzhlNzkyMzY5NCA9IEwucG9wdXAoe21heFdpZHRoOiAnMTAwJScKICAgICAgICAgICAgCiAgICAgICAgICAgIH0pOwoKICAgICAgICAgICAgCiAgICAgICAgICAgICAgICB2YXIgaHRtbF84OWQ3YjFiMmZkMDI0OGE2ODBiY2U5ZDMxNmZjZTlkYSA9ICQoYDxkaXYgaWQ9Imh0bWxfODlkN2IxYjJmZDAyNDhhNjgwYmNlOWQzMTZmY2U5ZGEiIHN0eWxlPSJ3aWR0aDogMTAwLjAlOyBoZWlnaHQ6IDEwMC4wJTsiPkJyZW50IENsdXN0ZXIgMDwvZGl2PmApWzBdOwogICAgICAgICAgICAgICAgcG9wdXBfNDAyYmY4ZDVkYzI0NDZkMWJkNTEzMDc4ZTc5MjM2OTQuc2V0Q29udGVudChodG1sXzg5ZDdiMWIyZmQwMjQ4YTY4MGJjZTlkMzE2ZmNlOWRhKTsKICAgICAgICAgICAgCgogICAgICAgICAgICBjaXJjbGVfbWFya2VyXzE0ODBmMDQ4OGEwOTQwZjZiNTQ1YzQxN2U0MDcxM2E0LmJpbmRQb3B1cChwb3B1cF80MDJiZjhkNWRjMjQ0NmQxYmQ1MTMwNzhlNzkyMzY5NCkKICAgICAgICAgICAgOwoKICAgICAgICAgICAgCiAgICAgICAgCiAgICAKICAgICAgICAgICAgdmFyIGNpcmNsZV9tYXJrZXJfMWFhNzY3Mzg3NDE1NGRhYzgzNTAyNTMyMDFiZGEzOWYgPSBMLmNpcmNsZU1hcmtlcigKICAgICAgICAgICAgICAgIFs1MS42NTMwOSwgLTAuMjAwMjI2MV0sCiAgICAgICAgICAgICAgICB7CiAgImJ1YmJsaW5nTW91c2VFdmVudHMiOiB0cnVlLAogICJjb2xvciI6ICIjZmYwMDAwIiwKICAiZGFzaEFycmF5IjogbnVsbCwKICAiZGFzaE9mZnNldCI6IG51bGwsCiAgImZpbGwiOiB0cnVlLAogICJmaWxsQ29sb3IiOiAiI2ZmMDAwMCIsCiAgImZpbGxPcGFjaXR5IjogMC43LAogICJmaWxsUnVsZSI6ICJldmVub2RkIiwKICAibGluZUNhcCI6ICJyb3VuZCIsCiAgImxpbmVKb2luIjogInJvdW5kIiwKICAib3BhY2l0eSI6IDEuMCwKICAicmFkaXVzIjogNSwKICAic3Ryb2tlIjogdHJ1ZSwKICAid2VpZ2h0IjogMwp9CiAgICAgICAgICAgICAgICApCiAgICAgICAgICAgICAgICAuYWRkVG8obWFwXzIwODU2YjVjYTBmMzQ2Y2ZiY2ViZGRhODk4NjEyNjVhKTsKICAgICAgICAgICAgCiAgICAKICAgICAgICAgICAgdmFyIHBvcHVwXzY1MDgwZDQ4YTg3YjQ3MTNhMjcyMWU2NmIxY2ZjNmM2ID0gTC5wb3B1cCh7bWF4V2lkdGg6ICcxMDAlJwogICAgICAgICAgICAKICAgICAgICAgICAgfSk7CgogICAgICAgICAgICAKICAgICAgICAgICAgICAgIHZhciBodG1sXzg2ZDZkYjk4YzQzNjQzNWQ4M2EwMTc4OTY5YmZhMThlID0gJChgPGRpdiBpZD0iaHRtbF84NmQ2ZGI5OGM0MzY0MzVkODNhMDE3ODk2OWJmYTE4ZSIgc3R5bGU9IndpZHRoOiAxMDAuMCU7IGhlaWdodDogMTAwLjAlOyI+QmFybmV0IENsdXN0ZXIgMDwvZGl2PmApWzBdOwogICAgICAgICAgICAgICAgcG9wdXBfNjUwODBkNDhhODdiNDcxM2EyNzIxZTY2YjFjZmM2YzYuc2V0Q29udGVudChodG1sXzg2ZDZkYjk4YzQzNjQzNWQ4M2EwMTc4OTY5YmZhMThlKTsKICAgICAgICAgICAgCgogICAgICAgICAgICBjaXJjbGVfbWFya2VyXzFhYTc2NzM4NzQxNTRkYWM4MzUwMjUzMjAxYmRhMzlmLmJpbmRQb3B1cChwb3B1cF82NTA4MGQ0OGE4N2I0NzEzYTI3MjFlNjZiMWNmYzZjNikKICAgICAgICAgICAgOwoKICAgICAgICAgICAgCiAgICAgICAgCiAgICAKICAgICAgICAgICAgdmFyIGNpcmNsZV9tYXJrZXJfMzI3N2UyMWU2Njg2NDZkNWE1YTA3NWE4MWFhZDAyZTUgPSBMLmNpcmNsZU1hcmtlcigKICAgICAgICAgICAgICAgIFs1MS40MTA4MDI4NDk5OTk5OTYsIC0wLjE4ODA5ODUwNTk1NTcyNzM2XSwKICAgICAgICAgICAgICAgIHsKICAiYnViYmxpbmdNb3VzZUV2ZW50cyI6IHRydWUsCiAgImNvbG9yIjogIiNmZjAwMDAiLAogICJkYXNoQXJyYXkiOiBudWxsLAogICJkYXNoT2Zmc2V0IjogbnVsbCwKICAiZmlsbCI6IHRydWUsCiAgImZpbGxDb2xvciI6ICIjZmYwMDAwIiwKICAiZmlsbE9wYWNpdHkiOiAwLjcsCiAgImZpbGxSdWxlIjogImV2ZW5vZGQiLAogICJsaW5lQ2FwIjogInJvdW5kIiwKICAibGluZUpvaW4iOiAicm91bmQiLAogICJvcGFjaXR5IjogMS4wLAogICJyYWRpdXMiOiA1LAogICJzdHJva2UiOiB0cnVlLAogICJ3ZWlnaHQiOiAzCn0KICAgICAgICAgICAgICAgICkKICAgICAgICAgICAgICAgIC5hZGRUbyhtYXBfMjA4NTZiNWNhMGYzNDZjZmJjZWJkZGE4OTg2MTI2NWEpOwogICAgICAgICAgICAKICAgIAogICAgICAgICAgICB2YXIgcG9wdXBfYWQ4YzRjYWZjYTMwNDVlZTkxODZkYTM0MWQ4ZWU3MzEgPSBMLnBvcHVwKHttYXhXaWR0aDogJzEwMCUnCiAgICAgICAgICAgIAogICAgICAgICAgICB9KTsKCiAgICAgICAgICAgIAogICAgICAgICAgICAgICAgdmFyIGh0bWxfZTIwMmM3YjkwYTY2NGMxMGIwYzQ1ZjQxZmIwNWVjM2EgPSAkKGA8ZGl2IGlkPSJodG1sX2UyMDJjN2I5MGE2NjRjMTBiMGM0NWY0MWZiMDVlYzNhIiBzdHlsZT0id2lkdGg6IDEwMC4wJTsgaGVpZ2h0OiAxMDAuMCU7Ij5NZXJ0b24gQ2x1c3RlciAwPC9kaXY+YClbMF07CiAgICAgICAgICAgICAgICBwb3B1cF9hZDhjNGNhZmNhMzA0NWVlOTE4NmRhMzQxZDhlZTczMS5zZXRDb250ZW50KGh0bWxfZTIwMmM3YjkwYTY2NGMxMGIwYzQ1ZjQxZmIwNWVjM2EpOwogICAgICAgICAgICAKCiAgICAgICAgICAgIGNpcmNsZV9tYXJrZXJfMzI3N2UyMWU2Njg2NDZkNWE1YTA3NWE4MWFhZDAyZTUuYmluZFBvcHVwKHBvcHVwX2FkOGM0Y2FmY2EzMDQ1ZWU5MTg2ZGEzNDFkOGVlNzMxKQogICAgICAgICAgICA7CgogICAgICAgICAgICAKICAgICAgICAKICAgIAogICAgICAgICAgICB2YXIgY2lyY2xlX21hcmtlcl8wNWM0MzFiZGUxN2M0Zjg3ODM5NGQ2NzEzZGQyNGEyZiA9IEwuY2lyY2xlTWFya2VyKAogICAgICAgICAgICAgICAgWzUxLjU4NzkyOTg0OTk5OTk5NSwgLTAuMTA1NDEwMTA1OTkwOTkwNDZdLAogICAgICAgICAgICAgICAgewogICJidWJibGluZ01vdXNlRXZlbnRzIjogdHJ1ZSwKICAiY29sb3IiOiAiIzgwMDBmZiIsCiAgImRhc2hBcnJheSI6IG51bGwsCiAgImRhc2hPZmZzZXQiOiBudWxsLAogICJmaWxsIjogdHJ1ZSwKICAiZmlsbENvbG9yIjogIiM4MDAwZmYiLAogICJmaWxsT3BhY2l0eSI6IDAuNywKICAiZmlsbFJ1bGUiOiAiZXZlbm9kZCIsCiAgImxpbmVDYXAiOiAicm91bmQiLAogICJsaW5lSm9pbiI6ICJyb3VuZCIsCiAgIm9wYWNpdHkiOiAxLjAsCiAgInJhZGl1cyI6IDUsCiAgInN0cm9rZSI6IHRydWUsCiAgIndlaWdodCI6IDMKfQogICAgICAgICAgICAgICAgKQogICAgICAgICAgICAgICAgLmFkZFRvKG1hcF8yMDg1NmI1Y2EwZjM0NmNmYmNlYmRkYTg5ODYxMjY1YSk7CiAgICAgICAgICAgIAogICAgCiAgICAgICAgICAgIHZhciBwb3B1cF9iNTVhM2FkZDgyMTU0YzNhYThjY2U1OWU2YzA2OTE3NiA9IEwucG9wdXAoe21heFdpZHRoOiAnMTAwJScKICAgICAgICAgICAgCiAgICAgICAgICAgIH0pOwoKICAgICAgICAgICAgCiAgICAgICAgICAgICAgICB2YXIgaHRtbF80MWI5OGJjNzY0NDE0MjczYTljY2I5NTBhZmVlNzY4MSA9ICQoYDxkaXYgaWQ9Imh0bWxfNDFiOThiYzc2NDQxNDI3M2E5Y2NiOTUwYWZlZTc2ODEiIHN0eWxlPSJ3aWR0aDogMTAwLjAlOyBoZWlnaHQ6IDEwMC4wJTsiPkhhcmluZ2V5IENsdXN0ZXIgMTwvZGl2PmApWzBdOwogICAgICAgICAgICAgICAgcG9wdXBfYjU1YTNhZGQ4MjE1NGMzYWE4Y2NlNTllNmMwNjkxNzYuc2V0Q29udGVudChodG1sXzQxYjk4YmM3NjQ0MTQyNzNhOWNjYjk1MGFmZWU3NjgxKTsKICAgICAgICAgICAgCgogICAgICAgICAgICBjaXJjbGVfbWFya2VyXzA1YzQzMWJkZTE3YzRmODc4Mzk0ZDY3MTNkZDI0YTJmLmJpbmRQb3B1cChwb3B1cF9iNTVhM2FkZDgyMTU0YzNhYThjY2U1OWU2YzA2OTE3NikKICAgICAgICAgICAgOwoKICAgICAgICAgICAgCiAgICAgICAgCiAgICAKICAgICAgICAgICAgdmFyIGNpcmNsZV9tYXJrZXJfYTI4MDgyY2Q1MDMyNDU4MGE0MGVlZTg1M2JlYjI5NTAgPSBMLmNpcmNsZU1hcmtlcigKICAgICAgICAgICAgICAgIFs1MS41MDEzMDEyLCAtMC4xMTcyODddLAogICAgICAgICAgICAgICAgewogICJidWJibGluZ01vdXNlRXZlbnRzIjogdHJ1ZSwKICAiY29sb3IiOiAiIzgwMDBmZiIsCiAgImRhc2hBcnJheSI6IG51bGwsCiAgImRhc2hPZmZzZXQiOiBudWxsLAogICJmaWxsIjogdHJ1ZSwKICAiZmlsbENvbG9yIjogIiM4MDAwZmYiLAogICJmaWxsT3BhY2l0eSI6IDAuNywKICAiZmlsbFJ1bGUiOiAiZXZlbm9kZCIsCiAgImxpbmVDYXAiOiAicm91bmQiLAogICJsaW5lSm9pbiI6ICJyb3VuZCIsCiAgIm9wYWNpdHkiOiAxLjAsCiAgInJhZGl1cyI6IDUsCiAgInN0cm9rZSI6IHRydWUsCiAgIndlaWdodCI6IDMKfQogICAgICAgICAgICAgICAgKQogICAgICAgICAgICAgICAgLmFkZFRvKG1hcF8yMDg1NmI1Y2EwZjM0NmNmYmNlYmRkYTg5ODYxMjY1YSk7CiAgICAgICAgICAgIAogICAgCiAgICAgICAgICAgIHZhciBwb3B1cF84ZGQzYWE1M2RmYTg0ZGU1YjhiMDU5NGQ2MDI5ZTRhMSA9IEwucG9wdXAoe21heFdpZHRoOiAnMTAwJScKICAgICAgICAgICAgCiAgICAgICAgICAgIH0pOwoKICAgICAgICAgICAgCiAgICAgICAgICAgICAgICB2YXIgaHRtbF8zOTdkNjBkMzg5ZjM0ZDNmYmMwZTI2MTMzODkyYjBkNCA9ICQoYDxkaXYgaWQ9Imh0bWxfMzk3ZDYwZDM4OWYzNGQzZmJjMGUyNjEzMzg5MmIwZDQiIHN0eWxlPSJ3aWR0aDogMTAwLjAlOyBoZWlnaHQ6IDEwMC4wJTsiPkxhbWJldGggQ2x1c3RlciAxPC9kaXY+YClbMF07CiAgICAgICAgICAgICAgICBwb3B1cF84ZGQzYWE1M2RmYTg0ZGU1YjhiMDU5NGQ2MDI5ZTRhMS5zZXRDb250ZW50KGh0bWxfMzk3ZDYwZDM4OWYzNGQzZmJjMGUyNjEzMzg5MmIwZDQpOwogICAgICAgICAgICAKCiAgICAgICAgICAgIGNpcmNsZV9tYXJrZXJfYTI4MDgyY2Q1MDMyNDU4MGE0MGVlZTg1M2JlYjI5NTAuYmluZFBvcHVwKHBvcHVwXzhkZDNhYTUzZGZhODRkZTViOGIwNTk0ZDYwMjllNGExKQogICAgICAgICAgICA7CgogICAgICAgICAgICAKICAgICAgICAKICAgIAogICAgICAgICAgICB2YXIgY2lyY2xlX21hcmtlcl9hZGNlNTdkN2U1YzQ0MzAyOGE1NDFjNDNlZjlmNzU4MCA9IEwuY2lyY2xlTWFya2VyKAogICAgICAgICAgICAgICAgWzUxLjUwMjkyMjIsIC0wLjEwMzQ1OF0sCiAgICAgICAgICAgICAgICB7CiAgImJ1YmJsaW5nTW91c2VFdmVudHMiOiB0cnVlLAogICJjb2xvciI6ICIjODAwMGZmIiwKICAiZGFzaEFycmF5IjogbnVsbCwKICAiZGFzaE9mZnNldCI6IG51bGwsCiAgImZpbGwiOiB0cnVlLAogICJmaWxsQ29sb3IiOiAiIzgwMDBmZiIsCiAgImZpbGxPcGFjaXR5IjogMC43LAogICJmaWxsUnVsZSI6ICJldmVub2RkIiwKICAibGluZUNhcCI6ICJyb3VuZCIsCiAgImxpbmVKb2luIjogInJvdW5kIiwKICAib3BhY2l0eSI6IDEuMCwKICAicmFkaXVzIjogNSwKICAic3Ryb2tlIjogdHJ1ZSwKICAid2VpZ2h0IjogMwp9CiAgICAgICAgICAgICAgICApCiAgICAgICAgICAgICAgICAuYWRkVG8obWFwXzIwODU2YjVjYTBmMzQ2Y2ZiY2ViZGRhODk4NjEyNjVhKTsKICAgICAgICAgICAgCiAgICAKICAgICAgICAgICAgdmFyIHBvcHVwXzI5MWI1ZjRhZWIzMTQwNzk4YjBkOGVlMTJkZjM4YmU1ID0gTC5wb3B1cCh7bWF4V2lkdGg6ICcxMDAlJwogICAgICAgICAgICAKICAgICAgICAgICAgfSk7CgogICAgICAgICAgICAKICAgICAgICAgICAgICAgIHZhciBodG1sX2IyYjU4NWMxMzJlODQ5NjFiMWI0MGFkNjE5MzcwNjc3ID0gJChgPGRpdiBpZD0iaHRtbF9iMmI1ODVjMTMyZTg0OTYxYjFiNDBhZDYxOTM3MDY3NyIgc3R5bGU9IndpZHRoOiAxMDAuMCU7IGhlaWdodDogMTAwLjAlOyI+U291dGh3YXJrIENsdXN0ZXIgMTwvZGl2PmApWzBdOwogICAgICAgICAgICAgICAgcG9wdXBfMjkxYjVmNGFlYjMxNDA3OThiMGQ4ZWUxMmRmMzhiZTUuc2V0Q29udGVudChodG1sX2IyYjU4NWMxMzJlODQ5NjFiMWI0MGFkNjE5MzcwNjc3KTsKICAgICAgICAgICAgCgogICAgICAgICAgICBjaXJjbGVfbWFya2VyX2FkY2U1N2Q3ZTVjNDQzMDI4YTU0MWM0M2VmOWY3NTgwLmJpbmRQb3B1cChwb3B1cF8yOTFiNWY0YWViMzE0MDc5OGIwZDhlZTEyZGYzOGJlNSkKICAgICAgICAgICAgOwoKICAgICAgICAgICAgCiAgICAgICAgCiAgICAKICAgICAgICAgICAgdmFyIGNpcmNsZV9tYXJrZXJfYjA3N2U4MjhjNmQzNDYyMmI2OThiMWQ3OTNkZjhkMjEgPSBMLmNpcmNsZU1hcmtlcigKICAgICAgICAgICAgICAgIFs1MS40NDA0NjA5NSwgLTAuMzA1NTE5MjM1OTExNzE5OV0sCiAgICAgICAgICAgICAgICB7CiAgImJ1YmJsaW5nTW91c2VFdmVudHMiOiB0cnVlLAogICJjb2xvciI6ICIjZmYwMDAwIiwKICAiZGFzaEFycmF5IjogbnVsbCwKICAiZGFzaE9mZnNldCI6IG51bGwsCiAgImZpbGwiOiB0cnVlLAogICJmaWxsQ29sb3IiOiAiI2ZmMDAwMCIsCiAgImZpbGxPcGFjaXR5IjogMC43LAogICJmaWxsUnVsZSI6ICJldmVub2RkIiwKICAibGluZUNhcCI6ICJyb3VuZCIsCiAgImxpbmVKb2luIjogInJvdW5kIiwKICAib3BhY2l0eSI6IDEuMCwKICAicmFkaXVzIjogNSwKICAic3Ryb2tlIjogdHJ1ZSwKICAid2VpZ2h0IjogMwp9CiAgICAgICAgICAgICAgICApCiAgICAgICAgICAgICAgICAuYWRkVG8obWFwXzIwODU2YjVjYTBmMzQ2Y2ZiY2ViZGRhODk4NjEyNjVhKTsKICAgICAgICAgICAgCiAgICAKICAgICAgICAgICAgdmFyIHBvcHVwX2E5NmQ2YTI2N2ZkNDQ2ZDJiZWZmNWVlNTU1ZDVjZGM0ID0gTC5wb3B1cCh7bWF4V2lkdGg6ICcxMDAlJwogICAgICAgICAgICAKICAgICAgICAgICAgfSk7CgogICAgICAgICAgICAKICAgICAgICAgICAgICAgIHZhciBodG1sX2M2Mzc1MGY5MzU4ZDQ2ODFiYzA5NzA1MjY3NzJhZGI2ID0gJChgPGRpdiBpZD0iaHRtbF9jNjM3NTBmOTM1OGQ0NjgxYmMwOTcwNTI2NzcyYWRiNiIgc3R5bGU9IndpZHRoOiAxMDAuMCU7IGhlaWdodDogMTAwLjAlOyI+UmljaG1vbmQgdXBvbiBUaGFtZXMgQ2x1c3RlciAwPC9kaXY+YClbMF07CiAgICAgICAgICAgICAgICBwb3B1cF9hOTZkNmEyNjdmZDQ0NmQyYmVmZjVlZTU1NWQ1Y2RjNC5zZXRDb250ZW50KGh0bWxfYzYzNzUwZjkzNThkNDY4MWJjMDk3MDUyNjc3MmFkYjYpOwogICAgICAgICAgICAKCiAgICAgICAgICAgIGNpcmNsZV9tYXJrZXJfYjA3N2U4MjhjNmQzNDYyMmI2OThiMWQ3OTNkZjhkMjEuYmluZFBvcHVwKHBvcHVwX2E5NmQ2YTI2N2ZkNDQ2ZDJiZWZmNWVlNTU1ZDVjZGM0KQogICAgICAgICAgICA7CgogICAgICAgICAgICAKICAgICAgICAKICAgIAogICAgICAgICAgICB2YXIgY2lyY2xlX21hcmtlcl8yOTdkMzBmZDBlNjM0MGQ4YmMzYzk4MTk1M2I4MzM4MSA9IEwuY2lyY2xlTWFya2VyKAogICAgICAgICAgICAgICAgWzUxLjU0MzI0MDIsIC0wLjA0OTM2MjFdLAogICAgICAgICAgICAgICAgewogICJidWJibGluZ01vdXNlRXZlbnRzIjogdHJ1ZSwKICAiY29sb3IiOiAiIzgwMDBmZiIsCiAgImRhc2hBcnJheSI6IG51bGwsCiAgImRhc2hPZmZzZXQiOiBudWxsLAogICJmaWxsIjogdHJ1ZSwKICAiZmlsbENvbG9yIjogIiM4MDAwZmYiLAogICJmaWxsT3BhY2l0eSI6IDAuNywKICAiZmlsbFJ1bGUiOiAiZXZlbm9kZCIsCiAgImxpbmVDYXAiOiAicm91bmQiLAogICJsaW5lSm9pbiI6ICJyb3VuZCIsCiAgIm9wYWNpdHkiOiAxLjAsCiAgInJhZGl1cyI6IDUsCiAgInN0cm9rZSI6IHRydWUsCiAgIndlaWdodCI6IDMKfQogICAgICAgICAgICAgICAgKQogICAgICAgICAgICAgICAgLmFkZFRvKG1hcF8yMDg1NmI1Y2EwZjM0NmNmYmNlYmRkYTg5ODYxMjY1YSk7CiAgICAgICAgICAgIAogICAgCiAgICAgICAgICAgIHZhciBwb3B1cF8wYTdlY2E3ZjI0ZGM0OWEwOWRhNDNjM2I5OGRkNjAyOSA9IEwucG9wdXAoe21heFdpZHRoOiAnMTAwJScKICAgICAgICAgICAgCiAgICAgICAgICAgIH0pOwoKICAgICAgICAgICAgCiAgICAgICAgICAgICAgICB2YXIgaHRtbF9hZGJkODIwZWE3NWM0NjNmODg3NzAyNDNjMjkxNmNlZSA9ICQoYDxkaXYgaWQ9Imh0bWxfYWRiZDgyMGVhNzVjNDYzZjg4NzcwMjQzYzI5MTZjZWUiIHN0eWxlPSJ3aWR0aDogMTAwLjAlOyBoZWlnaHQ6IDEwMC4wJTsiPkhhY2tuZXkgQ2x1c3RlciAxPC9kaXY+YClbMF07CiAgICAgICAgICAgICAgICBwb3B1cF8wYTdlY2E3ZjI0ZGM0OWEwOWRhNDNjM2I5OGRkNjAyOS5zZXRDb250ZW50KGh0bWxfYWRiZDgyMGVhNzVjNDYzZjg4NzcwMjQzYzI5MTZjZWUpOwogICAgICAgICAgICAKCiAgICAgICAgICAgIGNpcmNsZV9tYXJrZXJfMjk3ZDMwZmQwZTYzNDBkOGJjM2M5ODE5NTNiODMzODEuYmluZFBvcHVwKHBvcHVwXzBhN2VjYTdmMjRkYzQ5YTA5ZGE0M2MzYjk4ZGQ2MDI5KQogICAgICAgICAgICA7CgogICAgICAgICAgICAKICAgICAgICAKICAgIAogICAgICAgICAgICB2YXIgY2lyY2xlX21hcmtlcl9hMTZiYjA4ZDBlODM0YzNhYmJlNWU4ZjIyNzRmMDBjMiA9IEwuY2lyY2xlTWFya2VyKAogICAgICAgICAgICAgICAgWzUxLjEyODg2MzMsIDEuMjk4NjY4Nl0sCiAgICAgICAgICAgICAgICB7CiAgImJ1YmJsaW5nTW91c2VFdmVudHMiOiB0cnVlLAogICJjb2xvciI6ICIjODAwMGZmIiwKICAiZGFzaEFycmF5IjogbnVsbCwKICAiZGFzaE9mZnNldCI6IG51bGwsCiAgImZpbGwiOiB0cnVlLAogICJmaWxsQ29sb3IiOiAiIzgwMDBmZiIsCiAgImZpbGxPcGFjaXR5IjogMC43LAogICJmaWxsUnVsZSI6ICJldmVub2RkIiwKICAibGluZUNhcCI6ICJyb3VuZCIsCiAgImxpbmVKb2luIjogInJvdW5kIiwKICAib3BhY2l0eSI6IDEuMCwKICAicmFkaXVzIjogNSwKICAic3Ryb2tlIjogdHJ1ZSwKICAid2VpZ2h0IjogMwp9CiAgICAgICAgICAgICAgICApCiAgICAgICAgICAgICAgICAuYWRkVG8obWFwXzIwODU2YjVjYTBmMzQ2Y2ZiY2ViZGRhODk4NjEyNjVhKTsKICAgICAgICAgICAgCiAgICAKICAgICAgICAgICAgdmFyIHBvcHVwXzY4N2Y0OWM4MTEzNjQzZTU5MmM3YzI4Y2UyMWM4NGQwID0gTC5wb3B1cCh7bWF4V2lkdGg6ICcxMDAlJwogICAgICAgICAgICAKICAgICAgICAgICAgfSk7CgogICAgICAgICAgICAKICAgICAgICAgICAgICAgIHZhciBodG1sXzU4ODgyN2VkNjEyYTRkMDc5MGYyNDU5ZTA4ZWVlNzAzID0gJChgPGRpdiBpZD0iaHRtbF81ODg4MjdlZDYxMmE0ZDA3OTBmMjQ1OWUwOGVlZTcwMyIgc3R5bGU9IndpZHRoOiAxMDAuMCU7IGhlaWdodDogMTAwLjAlOyI+VG93ZXIgSGFtbGV0cyBDbHVzdGVyIDE8L2Rpdj5gKVswXTsKICAgICAgICAgICAgICAgIHBvcHVwXzY4N2Y0OWM4MTEzNjQzZTU5MmM3YzI4Y2UyMWM4NGQwLnNldENvbnRlbnQoaHRtbF81ODg4MjdlZDYxMmE0ZDA3OTBmMjQ1OWUwOGVlZTcwMyk7CiAgICAgICAgICAgIAoKICAgICAgICAgICAgY2lyY2xlX21hcmtlcl9hMTZiYjA4ZDBlODM0YzNhYmJlNWU4ZjIyNzRmMDBjMi5iaW5kUG9wdXAocG9wdXBfNjg3ZjQ5YzgxMTM2NDNlNTkyYzdjMjhjZTIxYzg0ZDApCiAgICAgICAgICAgIDsKCiAgICAgICAgICAgIAogICAgICAgIAogICAgCiAgICAgICAgICAgIHZhciBjaXJjbGVfbWFya2VyX2I0YjJjYjBmN2RhZjRlY2M4NjQzZjE1ZTEzNzU2ZWY0ID0gTC5jaXJjbGVNYXJrZXIoCiAgICAgICAgICAgICAgICBbNTEuNDU3MDI3MSwgLTAuMTkzMjYwN10sCiAgICAgICAgICAgICAgICB7CiAgImJ1YmJsaW5nTW91c2VFdmVudHMiOiB0cnVlLAogICJjb2xvciI6ICIjODAwMGZmIiwKICAiZGFzaEFycmF5IjogbnVsbCwKICAiZGFzaE9mZnNldCI6IG51bGwsCiAgImZpbGwiOiB0cnVlLAogICJmaWxsQ29sb3IiOiAiIzgwMDBmZiIsCiAgImZpbGxPcGFjaXR5IjogMC43LAogICJmaWxsUnVsZSI6ICJldmVub2RkIiwKICAibGluZUNhcCI6ICJyb3VuZCIsCiAgImxpbmVKb2luIjogInJvdW5kIiwKICAib3BhY2l0eSI6IDEuMCwKICAicmFkaXVzIjogNSwKICAic3Ryb2tlIjogdHJ1ZSwKICAid2VpZ2h0IjogMwp9CiAgICAgICAgICAgICAgICApCiAgICAgICAgICAgICAgICAuYWRkVG8obWFwXzIwODU2YjVjYTBmMzQ2Y2ZiY2ViZGRhODk4NjEyNjVhKTsKICAgICAgICAgICAgCiAgICAKICAgICAgICAgICAgdmFyIHBvcHVwXzhmMjYyM2M2MDYxODQwNzc4NDMwMjhiZmMzODZjOTljID0gTC5wb3B1cCh7bWF4V2lkdGg6ICcxMDAlJwogICAgICAgICAgICAKICAgICAgICAgICAgfSk7CgogICAgICAgICAgICAKICAgICAgICAgICAgICAgIHZhciBodG1sX2RlYWExOTJlY2E0ZjQ4NWZhNjNlZWU1MzE3MDJiOGRmID0gJChgPGRpdiBpZD0iaHRtbF9kZWFhMTkyZWNhNGY0ODVmYTYzZWVlNTMxNzAyYjhkZiIgc3R5bGU9IndpZHRoOiAxMDAuMCU7IGhlaWdodDogMTAwLjAlOyI+V2FuZHN3b3J0aCBDbHVzdGVyIDE8L2Rpdj5gKVswXTsKICAgICAgICAgICAgICAgIHBvcHVwXzhmMjYyM2M2MDYxODQwNzc4NDMwMjhiZmMzODZjOTljLnNldENvbnRlbnQoaHRtbF9kZWFhMTkyZWNhNGY0ODVmYTYzZWVlNTMxNzAyYjhkZik7CiAgICAgICAgICAgIAoKICAgICAgICAgICAgY2lyY2xlX21hcmtlcl9iNGIyY2IwZjdkYWY0ZWNjODY0M2YxNWUxMzc1NmVmNC5iaW5kUG9wdXAocG9wdXBfOGYyNjIzYzYwNjE4NDA3Nzg0MzAyOGJmYzM4NmM5OWMpCiAgICAgICAgICAgIDsKCiAgICAgICAgICAgIAogICAgICAgIAogICAgCiAgICAgICAgICAgIHZhciBjaXJjbGVfbWFya2VyXzk3ZDAwMDRiMWRiNzQ2OWU5ZTdlYjRkM2Y5ZTA1Y2Q4ID0gTC5jaXJjbGVNYXJrZXIoCiAgICAgICAgICAgICAgICBbNTEuNDkyMDM3NywgLTAuMjIzNjQwMV0sCiAgICAgICAgICAgICAgICB7CiAgImJ1YmJsaW5nTW91c2VFdmVudHMiOiB0cnVlLAogICJjb2xvciI6ICIjODAwMGZmIiwKICAiZGFzaEFycmF5IjogbnVsbCwKICAiZGFzaE9mZnNldCI6IG51bGwsCiAgImZpbGwiOiB0cnVlLAogICJmaWxsQ29sb3IiOiAiIzgwMDBmZiIsCiAgImZpbGxPcGFjaXR5IjogMC43LAogICJmaWxsUnVsZSI6ICJldmVub2RkIiwKICAibGluZUNhcCI6ICJyb3VuZCIsCiAgImxpbmVKb2luIjogInJvdW5kIiwKICAib3BhY2l0eSI6IDEuMCwKICAicmFkaXVzIjogNSwKICAic3Ryb2tlIjogdHJ1ZSwKICAid2VpZ2h0IjogMwp9CiAgICAgICAgICAgICAgICApCiAgICAgICAgICAgICAgICAuYWRkVG8obWFwXzIwODU2YjVjYTBmMzQ2Y2ZiY2ViZGRhODk4NjEyNjVhKTsKICAgICAgICAgICAgCiAgICAKICAgICAgICAgICAgdmFyIHBvcHVwXzYzMjA3NjY4OTg3YzQ4ODNhYWEzMmMxNDgyNzRhOWQwID0gTC5wb3B1cCh7bWF4V2lkdGg6ICcxMDAlJwogICAgICAgICAgICAKICAgICAgICAgICAgfSk7CgogICAgICAgICAgICAKICAgICAgICAgICAgICAgIHZhciBodG1sX2FiN2JlMTUwNjQ2NDRhYjE4NjZiMWZmZjA1ODgxNGYwID0gJChgPGRpdiBpZD0iaHRtbF9hYjdiZTE1MDY0NjQ0YWIxODY2YjFmZmYwNTg4MTRmMCIgc3R5bGU9IndpZHRoOiAxMDAuMCU7IGhlaWdodDogMTAwLjAlOyI+SGFtbWVyc21pdGggYW5kIEZ1bGhhbSBDbHVzdGVyIDE8L2Rpdj5gKVswXTsKICAgICAgICAgICAgICAgIHBvcHVwXzYzMjA3NjY4OTg3YzQ4ODNhYWEzMmMxNDgyNzRhOWQwLnNldENvbnRlbnQoaHRtbF9hYjdiZTE1MDY0NjQ0YWIxODY2YjFmZmYwNTg4MTRmMCk7CiAgICAgICAgICAgIAoKICAgICAgICAgICAgY2lyY2xlX21hcmtlcl85N2QwMDA0YjFkYjc0NjllOWU3ZWI0ZDNmOWUwNWNkOC5iaW5kUG9wdXAocG9wdXBfNjMyMDc2Njg5ODdjNDg4M2FhYTMyYzE0ODI3NGE5ZDApCiAgICAgICAgICAgIDsKCiAgICAgICAgICAgIAogICAgICAgIAogICAgCiAgICAgICAgICAgIHZhciBjaXJjbGVfbWFya2VyXzcwZDlmZDYzZGQ2OTQwMjJhZTgwMGMzYjYwMGI4OGNiID0gTC5jaXJjbGVNYXJrZXIoCiAgICAgICAgICAgICAgICBbNTEuNTM4NDI4NywgLTAuMDk5OTA1MV0sCiAgICAgICAgICAgICAgICB7CiAgImJ1YmJsaW5nTW91c2VFdmVudHMiOiB0cnVlLAogICJjb2xvciI6ICIjODAwMGZmIiwKICAiZGFzaEFycmF5IjogbnVsbCwKICAiZGFzaE9mZnNldCI6IG51bGwsCiAgImZpbGwiOiB0cnVlLAogICJmaWxsQ29sb3IiOiAiIzgwMDBmZiIsCiAgImZpbGxPcGFjaXR5IjogMC43LAogICJmaWxsUnVsZSI6ICJldmVub2RkIiwKICAibGluZUNhcCI6ICJyb3VuZCIsCiAgImxpbmVKb2luIjogInJvdW5kIiwKICAib3BhY2l0eSI6IDEuMCwKICAicmFkaXVzIjogNSwKICAic3Ryb2tlIjogdHJ1ZSwKICAid2VpZ2h0IjogMwp9CiAgICAgICAgICAgICAgICApCiAgICAgICAgICAgICAgICAuYWRkVG8obWFwXzIwODU2YjVjYTBmMzQ2Y2ZiY2ViZGRhODk4NjEyNjVhKTsKICAgICAgICAgICAgCiAgICAKICAgICAgICAgICAgdmFyIHBvcHVwXzE1ZTEyNGY4MDcxYzRlYWJiNDhjM2ZhOWY2MTAxZDI0ID0gTC5wb3B1cCh7bWF4V2lkdGg6ICcxMDAlJwogICAgICAgICAgICAKICAgICAgICAgICAgfSk7CgogICAgICAgICAgICAKICAgICAgICAgICAgICAgIHZhciBodG1sX2VmYWZjZDA5MjFmMzQxODY4Y2FiZWNhNjg4M2EzYzkyID0gJChgPGRpdiBpZD0iaHRtbF9lZmFmY2QwOTIxZjM0MTg2OGNhYmVjYTY4ODNhM2M5MiIgc3R5bGU9IndpZHRoOiAxMDAuMCU7IGhlaWdodDogMTAwLjAlOyI+SXNsaW5ndG9uIENsdXN0ZXIgMTwvZGl2PmApWzBdOwogICAgICAgICAgICAgICAgcG9wdXBfMTVlMTI0ZjgwNzFjNGVhYmI0OGMzZmE5ZjYxMDFkMjQuc2V0Q29udGVudChodG1sX2VmYWZjZDA5MjFmMzQxODY4Y2FiZWNhNjg4M2EzYzkyKTsKICAgICAgICAgICAgCgogICAgICAgICAgICBjaXJjbGVfbWFya2VyXzcwZDlmZDYzZGQ2OTQwMjJhZTgwMGMzYjYwMGI4OGNiLmJpbmRQb3B1cChwb3B1cF8xNWUxMjRmODA3MWM0ZWFiYjQ4YzNmYTlmNjEwMWQyNCkKICAgICAgICAgICAgOwoKICAgICAgICAgICAgCiAgICAgICAgCiAgICAKICAgICAgICAgICAgdmFyIGNpcmNsZV9tYXJrZXJfZDZiY2RlZmRiNWRjNGExNWJlZTYwNGY1OTg0NjY3N2MgPSBMLmNpcmNsZU1hcmtlcigKICAgICAgICAgICAgICAgIFszOS45NDQ4NDAyLCAtNzUuMTE5ODkxMV0sCiAgICAgICAgICAgICAgICB7CiAgImJ1YmJsaW5nTW91c2VFdmVudHMiOiB0cnVlLAogICJjb2xvciI6ICIjODAwMGZmIiwKICAiZGFzaEFycmF5IjogbnVsbCwKICAiZGFzaE9mZnNldCI6IG51bGwsCiAgImZpbGwiOiB0cnVlLAogICJmaWxsQ29sb3IiOiAiIzgwMDBmZiIsCiAgImZpbGxPcGFjaXR5IjogMC43LAogICJmaWxsUnVsZSI6ICJldmVub2RkIiwKICAibGluZUNhcCI6ICJyb3VuZCIsCiAgImxpbmVKb2luIjogInJvdW5kIiwKICAib3BhY2l0eSI6IDEuMCwKICAicmFkaXVzIjogNSwKICAic3Ryb2tlIjogdHJ1ZSwKICAid2VpZ2h0IjogMwp9CiAgICAgICAgICAgICAgICApCiAgICAgICAgICAgICAgICAuYWRkVG8obWFwXzIwODU2YjVjYTBmMzQ2Y2ZiY2ViZGRhODk4NjEyNjVhKTsKICAgICAgICAgICAgCiAgICAKICAgICAgICAgICAgdmFyIHBvcHVwXzE2YTY3ZjMxNDA5YTQ3YTU5NmRlYzkwNmY0MmVhNzE0ID0gTC5wb3B1cCh7bWF4V2lkdGg6ICcxMDAlJwogICAgICAgICAgICAKICAgICAgICAgICAgfSk7CgogICAgICAgICAgICAKICAgICAgICAgICAgICAgIHZhciBodG1sX2EwMTE5YWMxNDIwMDRiYThiOThjYTQ2ZWUzN2M4YjcyID0gJChgPGRpdiBpZD0iaHRtbF9hMDExOWFjMTQyMDA0YmE4Yjk4Y2E0NmVlMzdjOGI3MiIgc3R5bGU9IndpZHRoOiAxMDAuMCU7IGhlaWdodDogMTAwLjAlOyI+Q2FtZGVuIENsdXN0ZXIgMTwvZGl2PmApWzBdOwogICAgICAgICAgICAgICAgcG9wdXBfMTZhNjdmMzE0MDlhNDdhNTk2ZGVjOTA2ZjQyZWE3MTQuc2V0Q29udGVudChodG1sX2EwMTE5YWMxNDIwMDRiYThiOThjYTQ2ZWUzN2M4YjcyKTsKICAgICAgICAgICAgCgogICAgICAgICAgICBjaXJjbGVfbWFya2VyX2Q2YmNkZWZkYjVkYzRhMTViZWU2MDRmNTk4NDY2NzdjLmJpbmRQb3B1cChwb3B1cF8xNmE2N2YzMTQwOWE0N2E1OTZkZWM5MDZmNDJlYTcxNCkKICAgICAgICAgICAgOwoKICAgICAgICAgICAgCiAgICAgICAgCiAgICAKICAgICAgICAgICAgdmFyIGNpcmNsZV9tYXJrZXJfMDk1MTY1MmE4YmM1NDFjNzg3NTZmMmUxYWEyNTMxYmYgPSBMLmNpcmNsZU1hcmtlcigKICAgICAgICAgICAgICAgIFszOS44MzY2NTI4LCAtMTA1LjAzNzIwNDZdLAogICAgICAgICAgICAgICAgewogICJidWJibGluZ01vdXNlRXZlbnRzIjogdHJ1ZSwKICAiY29sb3IiOiAiIzgwZmZiNCIsCiAgImRhc2hBcnJheSI6IG51bGwsCiAgImRhc2hPZmZzZXQiOiBudWxsLAogICJmaWxsIjogdHJ1ZSwKICAiZmlsbENvbG9yIjogIiM4MGZmYjQiLAogICJmaWxsT3BhY2l0eSI6IDAuNywKICAiZmlsbFJ1bGUiOiAiZXZlbm9kZCIsCiAgImxpbmVDYXAiOiAicm91bmQiLAogICJsaW5lSm9pbiI6ICJyb3VuZCIsCiAgIm9wYWNpdHkiOiAxLjAsCiAgInJhZGl1cyI6IDUsCiAgInN0cm9rZSI6IHRydWUsCiAgIndlaWdodCI6IDMKfQogICAgICAgICAgICAgICAgKQogICAgICAgICAgICAgICAgLmFkZFRvKG1hcF8yMDg1NmI1Y2EwZjM0NmNmYmNlYmRkYTg5ODYxMjY1YSk7CiAgICAgICAgICAgIAogICAgCiAgICAgICAgICAgIHZhciBwb3B1cF8yNTM4MzMxMWJlMGE0ZmNkYmRhNDgyYmRkNGI4NjQzMCA9IEwucG9wdXAoe21heFdpZHRoOiAnMTAwJScKICAgICAgICAgICAgCiAgICAgICAgICAgIH0pOwoKICAgICAgICAgICAgCiAgICAgICAgICAgICAgICB2YXIgaHRtbF83OTY5NWJhNGMwN2Q0NDk0YWFiYWMzZTQ4YTk1ZGU1YiA9ICQoYDxkaXYgaWQ9Imh0bWxfNzk2OTViYTRjMDdkNDQ5NGFhYmFjM2U0OGE5NWRlNWIiIHN0eWxlPSJ3aWR0aDogMTAwLjAlOyBoZWlnaHQ6IDEwMC4wJTsiPldlc3RtaW5zdGVyIENsdXN0ZXIgMjwvZGl2PmApWzBdOwogICAgICAgICAgICAgICAgcG9wdXBfMjUzODMzMTFiZTBhNGZjZGJkYTQ4MmJkZDRiODY0MzAuc2V0Q29udGVudChodG1sXzc5Njk1YmE0YzA3ZDQ0OTRhYWJhYzNlNDhhOTVkZTViKTsKICAgICAgICAgICAgCgogICAgICAgICAgICBjaXJjbGVfbWFya2VyXzA5NTE2NTJhOGJjNTQxYzc4NzU2ZjJlMWFhMjUzMWJmLmJpbmRQb3B1cChwb3B1cF8yNTM4MzMxMWJlMGE0ZmNkYmRhNDgyYmRkNGI4NjQzMCkKICAgICAgICAgICAgOwoKICAgICAgICAgICAgCiAgICAgICAgCiAgICAKICAgICAgICAgICAgdmFyIGNpcmNsZV9tYXJrZXJfNTZiMjg5MDQ2ZWIxNDcwYzkwYTNkNzEzN2JmZTI0YjEgPSBMLmNpcmNsZU1hcmtlcigKICAgICAgICAgICAgICAgIFs1MS40ODc1NDE3LCAtMC4xNjgyMjA1XSwKICAgICAgICAgICAgICAgIHsKICAiYnViYmxpbmdNb3VzZUV2ZW50cyI6IHRydWUsCiAgImNvbG9yIjogIiM4MGZmYjQiLAogICJkYXNoQXJyYXkiOiBudWxsLAogICJkYXNoT2Zmc2V0IjogbnVsbCwKICAiZmlsbCI6IHRydWUsCiAgImZpbGxDb2xvciI6ICIjODBmZmI0IiwKICAiZmlsbE9wYWNpdHkiOiAwLjcsCiAgImZpbGxSdWxlIjogImV2ZW5vZGQiLAogICJsaW5lQ2FwIjogInJvdW5kIiwKICAibGluZUpvaW4iOiAicm91bmQiLAogICJvcGFjaXR5IjogMS4wLAogICJyYWRpdXMiOiA1LAogICJzdHJva2UiOiB0cnVlLAogICJ3ZWlnaHQiOiAzCn0KICAgICAgICAgICAgICAgICkKICAgICAgICAgICAgICAgIC5hZGRUbyhtYXBfMjA4NTZiNWNhMGYzNDZjZmJjZWJkZGE4OTg2MTI2NWEpOwogICAgICAgICAgICAKICAgIAogICAgICAgICAgICB2YXIgcG9wdXBfODE4YzUxNjQxMGY4NDcwOGI2ZWMyYTFiZTIxODE3ZGIgPSBMLnBvcHVwKHttYXhXaWR0aDogJzEwMCUnCiAgICAgICAgICAgIAogICAgICAgICAgICB9KTsKCiAgICAgICAgICAgIAogICAgICAgICAgICAgICAgdmFyIGh0bWxfYmQ4NmQyNWE1ZjlhNDZjODhmMTc4YjhlMTY2ZTg1YTIgPSAkKGA8ZGl2IGlkPSJodG1sX2JkODZkMjVhNWY5YTQ2Yzg4ZjE3OGI4ZTE2NmU4NWEyIiBzdHlsZT0id2lkdGg6IDEwMC4wJTsgaGVpZ2h0OiAxMDAuMCU7Ij5LZW5zaW5ndG9uIGFuZCBDaGVsc2VhIENsdXN0ZXIgMjwvZGl2PmApWzBdOwogICAgICAgICAgICAgICAgcG9wdXBfODE4YzUxNjQxMGY4NDcwOGI2ZWMyYTFiZTIxODE3ZGIuc2V0Q29udGVudChodG1sX2JkODZkMjVhNWY5YTQ2Yzg4ZjE3OGI4ZTE2NmU4NWEyKTsKICAgICAgICAgICAgCgogICAgICAgICAgICBjaXJjbGVfbWFya2VyXzU2YjI4OTA0NmViMTQ3MGM5MGEzZDcxMzdiZmUyNGIxLmJpbmRQb3B1cChwb3B1cF84MThjNTE2NDEwZjg0NzA4YjZlYzJhMWJlMjE4MTdkYikKICAgICAgICAgICAgOwoKICAgICAgICAgICAgCiAgICAgICAgCjwvc2NyaXB0Pg== onload=\"this.contentDocument.open();this.contentDocument.write(atob(this.getAttribute('data-html')));this.contentDocument.close();\" allowfullscreen webkitallowfullscreen mozallowfullscreen></iframe></div></div>"
            ],
            "text/plain": [
              "<folium.folium.Map at 0x7f6a9ef5c860>"
            ]
          },
          "metadata": {
            "tags": []
          },
          "execution_count": 400
        }
      ]
    }
  ]
}